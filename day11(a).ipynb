{
 "cells": [
  {
   "cell_type": "markdown",
   "id": "58fc8342",
   "metadata": {},
   "source": [
    "### Files"
   ]
  },
  {
   "cell_type": "code",
   "execution_count": 1,
   "id": "7164c185",
   "metadata": {},
   "outputs": [],
   "source": [
    "f = open(\"test1.txt\",\"w\")"
   ]
  },
  {
   "cell_type": "code",
   "execution_count": 2,
   "id": "62f82ecd",
   "metadata": {},
   "outputs": [
    {
     "data": {
      "text/plain": [
       "27"
      ]
     },
     "execution_count": 2,
     "metadata": {},
     "output_type": "execute_result"
    }
   ],
   "source": [
    "f.write(\"This is first line of text.\")"
   ]
  },
  {
   "cell_type": "code",
   "execution_count": 3,
   "id": "1598222a",
   "metadata": {},
   "outputs": [],
   "source": [
    "f.close()"
   ]
  },
  {
   "cell_type": "code",
   "execution_count": 4,
   "id": "1fffd6f9",
   "metadata": {},
   "outputs": [
    {
     "data": {
      "text/plain": [
       "'C:\\\\Users\\\\DELL\\\\OneDrive\\\\Desktop\\\\PW SKILLS DATA SCIENCE MASTER CLASS'"
      ]
     },
     "execution_count": 4,
     "metadata": {},
     "output_type": "execute_result"
    }
   ],
   "source": [
    "pwd"
   ]
  },
  {
   "cell_type": "code",
   "execution_count": 5,
   "id": "0a75c4cb",
   "metadata": {},
   "outputs": [
    {
     "name": "stdout",
     "output_type": "stream",
     "text": [
      " Volume in drive C is OS\n",
      " Volume Serial Number is 8CE0-AD99\n",
      "\n",
      " Directory of C:\\Users\\DELL\\OneDrive\\Desktop\\PW SKILLS DATA SCIENCE MASTER CLASS\n",
      "\n",
      "12-02-2023  10:22    <DIR>          .\n",
      "10-02-2023  18:28    <DIR>          ..\n",
      "12-02-2023  10:19    <DIR>          .ipynb_checkpoints\n",
      "31-01-2023  10:43             4,450 day1.ipynb\n",
      "11-02-2023  06:56            23,469 day10.ipynb\n",
      "12-02-2023  10:22             1,768 day11.ipynb\n",
      "01-02-2023  11:51             9,812 day2.ipynb\n",
      "01-02-2023  19:51            18,385 day3.ipynb\n",
      "02-02-2023  10:37            12,925 day4.ipynb\n",
      "04-02-2023  11:21            33,611 day5.ipynb\n",
      "04-02-2023  11:57                72 day6.ipynb\n",
      "04-02-2023  20:46            10,722 day7.ipynb\n",
      "05-02-2023  20:45             6,820 day8.ipynb\n",
      "08-02-2023  23:31            13,762 day9.ipynb\n",
      "10-02-2023  20:44            10,067 pratice.ipynb\n",
      "12-02-2023  10:22                27 test1.txt\n",
      "              13 File(s)        145,890 bytes\n",
      "               3 Dir(s)  380,755,439,616 bytes free\n"
     ]
    }
   ],
   "source": [
    "ls"
   ]
  },
  {
   "cell_type": "code",
   "execution_count": 9,
   "id": "5569fec6",
   "metadata": {},
   "outputs": [],
   "source": [
    "f = open(\"test1.txt\",\"a\")"
   ]
  },
  {
   "cell_type": "code",
   "execution_count": 10,
   "id": "13b0d8d2",
   "metadata": {},
   "outputs": [],
   "source": [
    "f.write('\\nSome more line of text here.')\n",
    "f.close()"
   ]
  },
  {
   "cell_type": "code",
   "execution_count": 11,
   "id": "4cb4f8b8",
   "metadata": {},
   "outputs": [],
   "source": [
    "f = open(\"test1.txt\",\"r\")"
   ]
  },
  {
   "cell_type": "code",
   "execution_count": 12,
   "id": "bb5f003d",
   "metadata": {},
   "outputs": [
    {
     "data": {
      "text/plain": [
       "'This is first line of text.\\nSome more line of text here.'"
      ]
     },
     "execution_count": 12,
     "metadata": {},
     "output_type": "execute_result"
    }
   ],
   "source": [
    "f.read()"
   ]
  },
  {
   "cell_type": "code",
   "execution_count": 14,
   "id": "6619c17d",
   "metadata": {},
   "outputs": [
    {
     "data": {
      "text/plain": [
       "''"
      ]
     },
     "execution_count": 14,
     "metadata": {},
     "output_type": "execute_result"
    }
   ],
   "source": [
    "# This will print nothing just because of cursor is at end so we need to reset the position of cursor.\n",
    "f.read()"
   ]
  },
  {
   "cell_type": "code",
   "execution_count": 18,
   "id": "360dc4f3",
   "metadata": {},
   "outputs": [
    {
     "data": {
      "text/plain": [
       "0"
      ]
     },
     "execution_count": 18,
     "metadata": {},
     "output_type": "execute_result"
    }
   ],
   "source": [
    "f.seek(0)"
   ]
  },
  {
   "cell_type": "code",
   "execution_count": 19,
   "id": "ef4a2dd9",
   "metadata": {},
   "outputs": [],
   "source": [
    "# f.read()"
   ]
  },
  {
   "cell_type": "code",
   "execution_count": 20,
   "id": "cc74354e",
   "metadata": {},
   "outputs": [
    {
     "name": "stdout",
     "output_type": "stream",
     "text": [
      "This is first line of text.\n",
      "\n",
      "Some more line of text here.\n"
     ]
    }
   ],
   "source": [
    "for data in f:\n",
    "    print(data)"
   ]
  },
  {
   "cell_type": "markdown",
   "id": "f7c40784",
   "metadata": {},
   "source": [
    "### Let's check size of file that we created"
   ]
  },
  {
   "cell_type": "code",
   "execution_count": 21,
   "id": "656ca0b1",
   "metadata": {},
   "outputs": [],
   "source": [
    "import os"
   ]
  },
  {
   "cell_type": "code",
   "execution_count": 22,
   "id": "fde46ee8",
   "metadata": {},
   "outputs": [
    {
     "data": {
      "text/plain": [
       "57"
      ]
     },
     "execution_count": 22,
     "metadata": {},
     "output_type": "execute_result"
    }
   ],
   "source": [
    "os.path.getsize(\"test1.txt\")"
   ]
  },
  {
   "cell_type": "markdown",
   "id": "b477eaa5",
   "metadata": {},
   "source": [
    "### Let's try to copy of file"
   ]
  },
  {
   "cell_type": "code",
   "execution_count": 23,
   "id": "5bed6537",
   "metadata": {},
   "outputs": [],
   "source": [
    "import shutil"
   ]
  },
  {
   "cell_type": "code",
   "execution_count": 25,
   "id": "1fcc8e9c",
   "metadata": {},
   "outputs": [
    {
     "data": {
      "text/plain": [
       "'new.txt'"
      ]
     },
     "execution_count": 25,
     "metadata": {},
     "output_type": "execute_result"
    }
   ],
   "source": [
    "shutil.copy(\"test1.txt\",\"new.txt\")"
   ]
  },
  {
   "cell_type": "markdown",
   "id": "be21d05e",
   "metadata": {},
   "source": [
    "### Let's remove the file"
   ]
  },
  {
   "cell_type": "code",
   "execution_count": 26,
   "id": "baed5e8d",
   "metadata": {},
   "outputs": [],
   "source": [
    "os.remove('new.txt')"
   ]
  },
  {
   "cell_type": "code",
   "execution_count": 28,
   "id": "89cdc31f",
   "metadata": {},
   "outputs": [
    {
     "name": "stdout",
     "output_type": "stream",
     "text": [
      "This is first line of text.\n",
      "Some more line of text here.\n"
     ]
    }
   ],
   "source": [
    "# Another way to open file for read and create.\n",
    "with open(\"test1.txt\",\"r\") as f:\n",
    "    print(f.read())"
   ]
  },
  {
   "cell_type": "markdown",
   "id": "7277189c",
   "metadata": {},
   "source": [
    "### Rename the file"
   ]
  },
  {
   "cell_type": "code",
   "execution_count": 29,
   "id": "204a7d34",
   "metadata": {},
   "outputs": [
    {
     "ename": "PermissionError",
     "evalue": "[WinError 32] The process cannot access the file because it is being used by another process: 'test1.txt' -> 'tests1.txt'",
     "output_type": "error",
     "traceback": [
      "\u001b[1;31m---------------------------------------------------------------------------\u001b[0m",
      "\u001b[1;31mPermissionError\u001b[0m                           Traceback (most recent call last)",
      "Cell \u001b[1;32mIn[29], line 1\u001b[0m\n\u001b[1;32m----> 1\u001b[0m \u001b[43mos\u001b[49m\u001b[38;5;241;43m.\u001b[39;49m\u001b[43mrename\u001b[49m\u001b[43m(\u001b[49m\u001b[38;5;124;43m\"\u001b[39;49m\u001b[38;5;124;43mtest1.txt\u001b[39;49m\u001b[38;5;124;43m\"\u001b[39;49m\u001b[43m,\u001b[49m\u001b[38;5;124;43m\"\u001b[39;49m\u001b[38;5;124;43mtests1.txt\u001b[39;49m\u001b[38;5;124;43m\"\u001b[39;49m\u001b[43m)\u001b[49m\n",
      "\u001b[1;31mPermissionError\u001b[0m: [WinError 32] The process cannot access the file because it is being used by another process: 'test1.txt' -> 'tests1.txt'"
     ]
    }
   ],
   "source": [
    "os.rename(\"test1.txt\",\"tests1.txt\")"
   ]
  },
  {
   "cell_type": "code",
   "execution_count": null,
   "id": "fb381fa6",
   "metadata": {},
   "outputs": [],
   "source": []
  }
 ],
 "metadata": {
  "kernelspec": {
   "display_name": "Python 3 (ipykernel)",
   "language": "python",
   "name": "python3"
  },
  "language_info": {
   "codemirror_mode": {
    "name": "ipython",
    "version": 3
   },
   "file_extension": ".py",
   "mimetype": "text/x-python",
   "name": "python",
   "nbconvert_exporter": "python",
   "pygments_lexer": "ipython3",
   "version": "3.11.1"
  }
 },
 "nbformat": 4,
 "nbformat_minor": 5
}
