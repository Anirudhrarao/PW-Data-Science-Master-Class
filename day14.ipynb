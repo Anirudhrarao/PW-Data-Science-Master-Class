{
 "cells": [
  {
   "cell_type": "markdown",
   "id": "13201604",
   "metadata": {},
   "source": [
    "### Multithreading "
   ]
  },
  {
   "cell_type": "code",
   "execution_count": 1,
   "id": "65523fec",
   "metadata": {},
   "outputs": [],
   "source": [
    "import threading"
   ]
  },
  {
   "cell_type": "code",
   "execution_count": 2,
   "id": "bd561e29",
   "metadata": {},
   "outputs": [],
   "source": [
    "def test(id):\n",
    "    print(\"This is my id %d\" %id)"
   ]
  },
  {
   "cell_type": "code",
   "execution_count": 3,
   "id": "2e2b2231",
   "metadata": {},
   "outputs": [
    {
     "name": "stdout",
     "output_type": "stream",
     "text": [
      "This is my id 10\n"
     ]
    }
   ],
   "source": [
    "test(10)"
   ]
  },
  {
   "cell_type": "code",
   "execution_count": 4,
   "id": "c86fa8f1",
   "metadata": {},
   "outputs": [
    {
     "name": "stdout",
     "output_type": "stream",
     "text": [
      "This is my id 1\n"
     ]
    }
   ],
   "source": [
    "test(1)"
   ]
  },
  {
   "cell_type": "code",
   "execution_count": 5,
   "id": "08bb1f4e",
   "metadata": {},
   "outputs": [
    {
     "name": "stdout",
     "output_type": "stream",
     "text": [
      "This is my id 2\n"
     ]
    }
   ],
   "source": [
    "test(2)"
   ]
  },
  {
   "cell_type": "code",
   "execution_count": 22,
   "id": "76d61f40",
   "metadata": {},
   "outputs": [],
   "source": [
    "thread = [threading.Thread(target=test,args=(i,)) for i in [10,1,2]]"
   ]
  },
  {
   "cell_type": "code",
   "execution_count": 23,
   "id": "e69af587",
   "metadata": {},
   "outputs": [
    {
     "data": {
      "text/plain": [
       "[<Thread(Thread-17 (test), initial)>,\n",
       " <Thread(Thread-18 (test), initial)>,\n",
       " <Thread(Thread-19 (test), initial)>]"
      ]
     },
     "execution_count": 23,
     "metadata": {},
     "output_type": "execute_result"
    }
   ],
   "source": [
    "thread"
   ]
  },
  {
   "cell_type": "code",
   "execution_count": 24,
   "id": "4e51e51e",
   "metadata": {},
   "outputs": [
    {
     "name": "stdout",
     "output_type": "stream",
     "text": [
      "This is my id 10\n",
      "This is my id 1\n",
      "This is my id 2\n"
     ]
    }
   ],
   "source": [
    "for i in thread:\n",
    "    i.start()"
   ]
  },
  {
   "cell_type": "code",
   "execution_count": 25,
   "id": "a84f3a63",
   "metadata": {},
   "outputs": [],
   "source": [
    "import urllib.request"
   ]
  },
  {
   "cell_type": "code",
   "execution_count": 26,
   "id": "98eb6218",
   "metadata": {},
   "outputs": [],
   "source": [
    "def file_download(url,filename):\n",
    "    urllib.request.urlretrieve(url,filename)"
   ]
  },
  {
   "cell_type": "code",
   "execution_count": 27,
   "id": "a801fc0c",
   "metadata": {},
   "outputs": [],
   "source": [
    "file_download('https://raw.githubusercontent.com/itsfoss/text-files/master/agatha.txt',\"test1.txt\")"
   ]
  },
  {
   "cell_type": "code",
   "execution_count": 30,
   "id": "9739e921",
   "metadata": {},
   "outputs": [],
   "source": [
    "url_list = ['https://raw.githubusercontent.com/itsfoss/text-files/master/agatha.txt',\n",
    "           'https://raw.githubusercontent.com/itsfoss/text-files/master/sherlock.txt',\n",
    "           'https://raw.githubusercontent.com/itsfoss/text-files/master/sample_log_file.txt']"
   ]
  },
  {
   "cell_type": "code",
   "execution_count": 31,
   "id": "57dca5a1",
   "metadata": {},
   "outputs": [
    {
     "data": {
      "text/plain": [
       "['https://raw.githubusercontent.com/itsfoss/text-files/master/agatha.txt',\n",
       " 'https://raw.githubusercontent.com/itsfoss/text-files/master/sherlock.txt',\n",
       " 'https://raw.githubusercontent.com/itsfoss/text-files/master/sample_log_file.txt']"
      ]
     },
     "execution_count": 31,
     "metadata": {},
     "output_type": "execute_result"
    }
   ],
   "source": [
    "url_list"
   ]
  },
  {
   "cell_type": "code",
   "execution_count": 32,
   "id": "38f690f7",
   "metadata": {},
   "outputs": [],
   "source": [
    "data_file_list = ['datas112.txt','datas113.txt','datas114.txt']"
   ]
  },
  {
   "cell_type": "code",
   "execution_count": 33,
   "id": "d778c8df",
   "metadata": {},
   "outputs": [
    {
     "data": {
      "text/plain": [
       "['datas112.txt', 'datas113.txt', 'datas114.txt']"
      ]
     },
     "execution_count": 33,
     "metadata": {},
     "output_type": "execute_result"
    }
   ],
   "source": [
    "data_file_list"
   ]
  },
  {
   "cell_type": "code",
   "execution_count": 42,
   "id": "c6eb7681",
   "metadata": {},
   "outputs": [],
   "source": [
    "thread = [threading.Thread(target=file_download, args=(url_list[i],data_file_list[i])) for i in range(len(url_list))]"
   ]
  },
  {
   "cell_type": "code",
   "execution_count": 43,
   "id": "1fbe5935",
   "metadata": {},
   "outputs": [],
   "source": [
    "for t in thread:\n",
    "    t.start()"
   ]
  },
  {
   "cell_type": "code",
   "execution_count": 44,
   "id": "8aa99eab",
   "metadata": {},
   "outputs": [],
   "source": [
    "import time"
   ]
  },
  {
   "cell_type": "code",
   "execution_count": 51,
   "id": "59758525",
   "metadata": {},
   "outputs": [],
   "source": [
    "def test2(x):\n",
    "    for i in range(10):\n",
    "        print(x)\n",
    "#         time.sleep(1)"
   ]
  },
  {
   "cell_type": "code",
   "execution_count": 52,
   "id": "f3de671b",
   "metadata": {},
   "outputs": [
    {
     "name": "stdout",
     "output_type": "stream",
     "text": [
      "yash\n",
      "yash\n",
      "yash\n",
      "yash\n",
      "yash\n",
      "yash\n",
      "yash\n",
      "yash\n",
      "yash\n",
      "yash\n"
     ]
    }
   ],
   "source": [
    "test2(\"yash\")"
   ]
  },
  {
   "cell_type": "code",
   "execution_count": 53,
   "id": "e148a8ea",
   "metadata": {},
   "outputs": [],
   "source": [
    "thread = [threading.Thread(target=test2, args=(i,)) for i in [\"yash\",\"anirudhra\",\"rao\"]]"
   ]
  },
  {
   "cell_type": "code",
   "execution_count": 54,
   "id": "80e68349",
   "metadata": {},
   "outputs": [
    {
     "name": "stdout",
     "output_type": "stream",
     "text": [
      "yash\n",
      "yash\n",
      "yash\n",
      "yash\n",
      "yash\n",
      "yash\n",
      "yash\n",
      "yash\n",
      "yash\n",
      "yash\n",
      "anirudhra\n",
      "anirudhra\n",
      "anirudhra\n",
      "anirudhra\n",
      "anirudhra\n",
      "anirudhra\n",
      "anirudhra\n",
      "anirudhra\n",
      "anirudhra\n",
      "anirudhra\n",
      "rao\n",
      "rao\n",
      "rao\n",
      "rao\n",
      "rao\n",
      "rao\n",
      "rao\n",
      "rao\n",
      "rao\n",
      "rao\n"
     ]
    }
   ],
   "source": [
    "for t in thread:\n",
    "    t.start()"
   ]
  },
  {
   "cell_type": "code",
   "execution_count": 61,
   "id": "0dbda4ce",
   "metadata": {},
   "outputs": [],
   "source": [
    "shared_var = 0\n",
    "lock_var = threading.Lock()\n",
    "def test3(x):\n",
    "    global shared_var\n",
    "    with lock_var:\n",
    "        shared_var = shared_var + 1\n",
    "        print(\"Value of x %d and value of shared_value %d\" %(x,shared_var))\n",
    "        time.sleep(1)\n",
    "thread = [threading.Thread(target=test3, args=(i,)) for i in [1,2,3,4,5]]"
   ]
  },
  {
   "cell_type": "code",
   "execution_count": 62,
   "id": "9f3a8660",
   "metadata": {},
   "outputs": [
    {
     "name": "stdout",
     "output_type": "stream",
     "text": [
      "Value of x 1 and value of shared_value 1\n",
      "Value of x 2 and value of shared_value 2\n",
      "Value of x 3 and value of shared_value 3\n",
      "Value of x 4 and value of shared_value 4\n",
      "Value of x 5 and value of shared_value 5\n"
     ]
    }
   ],
   "source": [
    "for t in thread:\n",
    "    t.start()"
   ]
  },
  {
   "cell_type": "code",
   "execution_count": 58,
   "id": "032d3124",
   "metadata": {},
   "outputs": [
    {
     "name": "stdout",
     "output_type": "stream",
     "text": [
      "shared_var:  1\n"
     ]
    }
   ],
   "source": [
    "test3(1)"
   ]
  },
  {
   "cell_type": "code",
   "execution_count": 59,
   "id": "ea9572bf",
   "metadata": {},
   "outputs": [
    {
     "name": "stdout",
     "output_type": "stream",
     "text": [
      "shared_var:  2\n"
     ]
    }
   ],
   "source": [
    "test3(2)"
   ]
  },
  {
   "cell_type": "code",
   "execution_count": 60,
   "id": "7492ce8f",
   "metadata": {},
   "outputs": [
    {
     "name": "stdout",
     "output_type": "stream",
     "text": [
      "shared_var:  3\n"
     ]
    }
   ],
   "source": [
    "test3(3)"
   ]
  },
  {
   "cell_type": "code",
   "execution_count": null,
   "id": "4870c7b3",
   "metadata": {},
   "outputs": [],
   "source": []
  }
 ],
 "metadata": {
  "kernelspec": {
   "display_name": "Python 3 (ipykernel)",
   "language": "python",
   "name": "python3"
  },
  "language_info": {
   "codemirror_mode": {
    "name": "ipython",
    "version": 3
   },
   "file_extension": ".py",
   "mimetype": "text/x-python",
   "name": "python",
   "nbconvert_exporter": "python",
   "pygments_lexer": "ipython3",
   "version": "3.11.1"
  }
 },
 "nbformat": 4,
 "nbformat_minor": 5
}
