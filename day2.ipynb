{
 "cells": [
  {
   "attachments": {},
   "cell_type": "markdown",
   "metadata": {},
   "source": [
    "## Decision Making statement"
   ]
  },
  {
   "cell_type": "markdown",
   "metadata": {},
   "source": [
    "### If statement"
   ]
  },
  {
   "cell_type": "code",
   "execution_count": 1,
   "metadata": {},
   "outputs": [
    {
     "name": "stdout",
     "output_type": "stream",
     "text": [
      "Value\n",
      "84\n"
     ]
    }
   ],
   "source": [
    "val = 84\n",
    "if val:\n",
    "    print(\"Value\")\n",
    "    print(val)"
   ]
  },
  {
   "attachments": {},
   "cell_type": "markdown",
   "metadata": {},
   "source": [
    "### If else statement"
   ]
  },
  {
   "cell_type": "code",
   "execution_count": 2,
   "metadata": {},
   "outputs": [
    {
     "name": "stdout",
     "output_type": "stream",
     "text": [
      "Discount Rupees:  3.88\n",
      "Net Payable Amount:  93.12\n"
     ]
    }
   ],
   "source": [
    "Total_price = int(input(\"Price: \"))\n",
    "if Total_price<100:\n",
    "    discount = Total_price*0.04\n",
    "    print(\"Discount Rupees: \",str(discount))\n",
    "else:\n",
    "    discount = Total_price*0.1\n",
    "    print(\"Discount Rupees: \",str(discount))\n",
    "print(\"Net Payable Amount: \",Total_price-discount)"
   ]
  },
  {
   "attachments": {},
   "cell_type": "markdown",
   "metadata": {},
   "source": [
    "### If elif else statement"
   ]
  },
  {
   "cell_type": "code",
   "execution_count": 3,
   "metadata": {},
   "outputs": [
    {
     "name": "stdout",
     "output_type": "stream",
     "text": [
      "Discount Rupees:  39.92\n",
      "Net Payable Amount:  459.08\n"
     ]
    }
   ],
   "source": [
    "Total_price = int(input(\"Price: \"))\n",
    "if Total_price<100:\n",
    "    discount = Total_price*0.04\n",
    "    print(\"Discount Rupees: \",str(discount))\n",
    "elif Total_price<500:\n",
    "    discount = Total_price*0.08\n",
    "    print(\"Discount Rupees: \",str(discount))\n",
    "else:\n",
    "    discount = Total_price*0.1\n",
    "    print(\"Discount Rupees: \",str(discount))\n",
    "print(\"Net Payable Amount: \",Total_price-discount)"
   ]
  },
  {
   "attachments": {},
   "cell_type": "markdown",
   "metadata": {},
   "source": [
    "### Nested if "
   ]
  },
  {
   "cell_type": "code",
   "execution_count": 4,
   "metadata": {},
   "outputs": [
    {
     "name": "stdout",
     "output_type": "stream",
     "text": [
      "Number is Zero\n"
     ]
    }
   ],
   "source": [
    "val = float(input('Enter number: '))\n",
    "if val>=0:\n",
    "    if val == 0:\n",
    "        print(\"Number is Zero\")\n",
    "    else:\n",
    "        print(\"Number is positive\")\n",
    "else:\n",
    "    print(\"Number is negative\")"
   ]
  },
  {
   "attachments": {},
   "cell_type": "markdown",
   "metadata": {},
   "source": [
    "### Single suites statement"
   ]
  },
  {
   "cell_type": "code",
   "execution_count": 5,
   "metadata": {},
   "outputs": [
    {
     "name": "stdout",
     "output_type": "stream",
     "text": [
      "Value is less than equal to 999.\n",
      "Good Bye\n"
     ]
    }
   ],
   "source": [
    "val = int(input('Enter a number: '))\n",
    "if (val<=999): print(\"Value is less than equal to 999.\")\n",
    "print(\"Good Bye\")"
   ]
  },
  {
   "attachments": {},
   "cell_type": "markdown",
   "metadata": {},
   "source": [
    "### While loops"
   ]
  },
  {
   "cell_type": "code",
   "execution_count": 7,
   "metadata": {},
   "outputs": [
    {
     "name": "stdout",
     "output_type": "stream",
     "text": [
      "1\n",
      "2\n",
      "3\n",
      "4\n",
      "5\n",
      "Total money:  50 Rupees\n"
     ]
    }
   ],
   "source": [
    "notes = 5\n",
    "i = 1\n",
    "while i<=notes:\n",
    "    print(i)\n",
    "    i+=1\n",
    "print(\"Total money: \",notes*10,'Rupees')"
   ]
  },
  {
   "attachments": {},
   "cell_type": "markdown",
   "metadata": {},
   "source": [
    "### While with else"
   ]
  },
  {
   "cell_type": "code",
   "execution_count": 8,
   "metadata": {},
   "outputs": [
    {
     "name": "stdout",
     "output_type": "stream",
     "text": [
      "1\n",
      "2\n",
      "3\n",
      "4\n",
      "5\n",
      "No more notes left\n",
      "Total Money: 50 Rupees\n"
     ]
    }
   ],
   "source": [
    "notes = 5\n",
    "i = 1\n",
    "while i<=notes:\n",
    "    print(i)\n",
    "    i += 1\n",
    "else:\n",
    "    print(\"No more notes left\")\n",
    "print(\"Total Money:\",notes*10,'Rupees')"
   ]
  },
  {
   "attachments": {},
   "cell_type": "markdown",
   "metadata": {},
   "source": [
    "### For loops"
   ]
  },
  {
   "cell_type": "code",
   "execution_count": 10,
   "metadata": {},
   "outputs": [
    {
     "name": "stdout",
     "output_type": "stream",
     "text": [
      "Mango\n",
      "Cherry\n",
      "Apple\n",
      "Papaya\n",
      "Banana\n"
     ]
    }
   ],
   "source": [
    "fruits_list = [\"Mango\",\"Cherry\",\"Apple\",\"Papaya\",\"Banana\"]\n",
    "for x in fruits_list:\n",
    "    print(x)"
   ]
  },
  {
   "attachments": {},
   "cell_type": "markdown",
   "metadata": {},
   "source": [
    "### for loop with else"
   ]
  },
  {
   "cell_type": "code",
   "execution_count": 11,
   "metadata": {},
   "outputs": [
    {
     "name": "stdout",
     "output_type": "stream",
     "text": [
      "Mango\n",
      "Cherry\n",
      "Apple\n",
      "Papaya\n",
      "Banana\n",
      "No more fruits in container\n"
     ]
    }
   ],
   "source": [
    "for x in fruits_list:\n",
    "    print(x)\n",
    "else:\n",
    "    print(\"No more fruits in container\")"
   ]
  },
  {
   "attachments": {},
   "cell_type": "markdown",
   "metadata": {},
   "source": [
    "### for loop for string"
   ]
  },
  {
   "cell_type": "code",
   "execution_count": 12,
   "metadata": {},
   "outputs": [
    {
     "name": "stdout",
     "output_type": "stream",
     "text": [
      "M\n",
      "a\n",
      "n\n",
      "g\n",
      "o\n"
     ]
    }
   ],
   "source": [
    "f_name = \"Mango\"\n",
    "for x in f_name:\n",
    "    print(x)"
   ]
  },
  {
   "attachments": {},
   "cell_type": "markdown",
   "metadata": {},
   "source": [
    "## Nested Loop"
   ]
  },
  {
   "cell_type": "code",
   "execution_count": 17,
   "metadata": {},
   "outputs": [
    {
     "name": "stdout",
     "output_type": "stream",
     "text": [
      "* \n",
      "* * \n",
      "* * * \n",
      "* * * * \n",
      "* * * * * \n",
      "* * * * * * \n",
      "* * * * * * * \n"
     ]
    }
   ],
   "source": [
    "n = 7\n",
    "for i in range(0,n):\n",
    "    for j in range(0,i+1):\n",
    "        print(\"* \",end=\"\")\n",
    "    print('\\r')"
   ]
  },
  {
   "attachments": {},
   "cell_type": "markdown",
   "metadata": {},
   "source": [
    "### Nested While loop"
   ]
  },
  {
   "cell_type": "code",
   "execution_count": 2,
   "metadata": {},
   "outputs": [
    {
     "name": "stdout",
     "output_type": "stream",
     "text": [
      "    *\n",
      "   ***\n",
      "  *****\n",
      " *******\n",
      "*********\n"
     ]
    }
   ],
   "source": [
    "num_row = int(input(\"Enter number of rows: \")) \n",
    "row = 0\n",
    "while (row < num_row):\n",
    "    row += 1\n",
    "    space = num_row - row\n",
    "\n",
    "    sc = 0\n",
    "    while (sc<space):\n",
    "        print(\" \",end='')\n",
    "        sc += 1\n",
    "\n",
    "    stars = 2 * row - 1\n",
    "    while (stars > 0):\n",
    "        print(\"*\",end='')\n",
    "        stars -= 1\n",
    "    print()"
   ]
  },
  {
   "attachments": {},
   "cell_type": "markdown",
   "metadata": {},
   "source": [
    "## Loops control"
   ]
  },
  {
   "cell_type": "code",
   "execution_count": 19,
   "metadata": {},
   "outputs": [
    {
     "name": "stdout",
     "output_type": "stream",
     "text": [
      "1\n",
      "2\n",
      "3\n",
      "4\n",
      "5\n"
     ]
    }
   ],
   "source": [
    "x = 1\n",
    "while (x<=10):\n",
    "    print(x)\n",
    "    if x == 5:\n",
    "        break\n",
    "    x += 1\n",
    "\n"
   ]
  },
  {
   "cell_type": "code",
   "execution_count": 21,
   "metadata": {},
   "outputs": [
    {
     "name": "stdout",
     "output_type": "stream",
     "text": [
      "Mango\n",
      "Cherry\n",
      "Apple\n",
      "Now it going to terminates the loop\n"
     ]
    }
   ],
   "source": [
    "fruits_list = [\"Mango\",\"Cherry\",\"Apple\",\"Papaya\",\"Banana\"]\n",
    "for i in fruits_list:\n",
    "    print(i)\n",
    "    if i == \"Apple\":\n",
    "        print(\"Now it going to terminates the loop\")\n",
    "        break"
   ]
  },
  {
   "cell_type": "code",
   "execution_count": 1,
   "metadata": {},
   "outputs": [
    {
     "name": "stdout",
     "output_type": "stream",
     "text": [
      "1\n",
      "2\n",
      "3\n",
      "4\n",
      "5\n"
     ]
    }
   ],
   "source": [
    "x = 1\n",
    "while x <=10:\n",
    "    print(x)\n",
    "    if x == 5:\n",
    "        break\n",
    "    x += 1"
   ]
  },
  {
   "cell_type": "code",
   "execution_count": null,
   "metadata": {},
   "outputs": [],
   "source": []
  }
 ],
 "metadata": {
  "kernelspec": {
   "display_name": "Python 3",
   "language": "python",
   "name": "python3"
  },
  "language_info": {
   "codemirror_mode": {
    "name": "ipython",
    "version": 3
   },
   "file_extension": ".py",
   "mimetype": "text/x-python",
   "name": "python",
   "nbconvert_exporter": "python",
   "pygments_lexer": "ipython3",
   "version": "3.10.4"
  },
  "orig_nbformat": 4,
  "vscode": {
   "interpreter": {
    "hash": "fbc768028c3e6ead51d9a200ddcb2ec858ae62844dcd1994729a8279be9b48f2"
   }
  }
 },
 "nbformat": 4,
 "nbformat_minor": 2
}
