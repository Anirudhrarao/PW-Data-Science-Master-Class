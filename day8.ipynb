{
 "cells": [
  {
   "cell_type": "markdown",
   "id": "9ee9c12e",
   "metadata": {},
   "source": [
    "### Oops Concept"
   ]
  },
  {
   "cell_type": "code",
   "execution_count": 2,
   "id": "5dad2c86",
   "metadata": {},
   "outputs": [],
   "source": [
    "    a = 1"
   ]
  },
  {
   "cell_type": "code",
   "execution_count": 3,
   "id": "ada9d567",
   "metadata": {},
   "outputs": [
    {
     "name": "stdout",
     "output_type": "stream",
     "text": [
      "<class 'int'>\n"
     ]
    }
   ],
   "source": [
    "print(type(a))"
   ]
  },
  {
   "cell_type": "code",
   "execution_count": 4,
   "id": "19268a10",
   "metadata": {},
   "outputs": [
    {
     "name": "stdout",
     "output_type": "stream",
     "text": [
      "<class 'str'>\n"
     ]
    }
   ],
   "source": [
    "print(type('pwskills'))"
   ]
  },
  {
   "cell_type": "code",
   "execution_count": 6,
   "id": "d0d83f3e",
   "metadata": {},
   "outputs": [],
   "source": [
    "class Test:\n",
    "    pass"
   ]
  },
  {
   "cell_type": "code",
   "execution_count": 8,
   "id": "9afd0208",
   "metadata": {},
   "outputs": [],
   "source": [
    "a = Test()"
   ]
  },
  {
   "cell_type": "code",
   "execution_count": 9,
   "id": "e0b39229",
   "metadata": {},
   "outputs": [
    {
     "name": "stdout",
     "output_type": "stream",
     "text": [
      "<class '__main__.Test'>\n"
     ]
    }
   ],
   "source": [
    "print(type(a))"
   ]
  },
  {
   "cell_type": "code",
   "execution_count": 13,
   "id": "ac0adcd8",
   "metadata": {},
   "outputs": [],
   "source": [
    "class Pwskills:\n",
    "    def welcome_msg(self):\n",
    "        print(\"Welcome to pwskills\")"
   ]
  },
  {
   "cell_type": "code",
   "execution_count": 16,
   "id": "d93bc063",
   "metadata": {},
   "outputs": [],
   "source": [
    "rohan = Pwskills()"
   ]
  },
  {
   "cell_type": "code",
   "execution_count": 17,
   "id": "5eeaf9e5",
   "metadata": {},
   "outputs": [
    {
     "name": "stdout",
     "output_type": "stream",
     "text": [
      "Welcome to pwskills\n"
     ]
    }
   ],
   "source": [
    "rohan.welcome_msg()"
   ]
  },
  {
   "cell_type": "code",
   "execution_count": 18,
   "id": "bb80bac9",
   "metadata": {},
   "outputs": [],
   "source": [
    "sohan = Pwskills()"
   ]
  },
  {
   "cell_type": "code",
   "execution_count": 19,
   "id": "9b6a1f63",
   "metadata": {},
   "outputs": [
    {
     "name": "stdout",
     "output_type": "stream",
     "text": [
      "Welcome to pwskills\n"
     ]
    }
   ],
   "source": [
    "sohan.welcome_msg()"
   ]
  },
  {
   "cell_type": "code",
   "execution_count": 20,
   "id": "8ae8792f",
   "metadata": {},
   "outputs": [],
   "source": [
    "class Pwskills1:\n",
    "    \n",
    "    def __init__(self,ph_no,email,student_id):\n",
    "        self.phone_number = ph_no\n",
    "        self.email = email\n",
    "        self.student_id = student_id\n",
    "        \n",
    "    def students_details(self):\n",
    "        return self.phone_number, self.email, self.student_id\n",
    "    "
   ]
  },
  {
   "cell_type": "code",
   "execution_count": 22,
   "id": "a00c2045",
   "metadata": {},
   "outputs": [],
   "source": [
    "rohan = Pwskills1(845941190,'raorudhra@gmail.com','113rao')"
   ]
  },
  {
   "cell_type": "code",
   "execution_count": 23,
   "id": "9180d06f",
   "metadata": {},
   "outputs": [
    {
     "data": {
      "text/plain": [
       "(845941190, 'raorudhra@gmail.com', '113rao')"
      ]
     },
     "execution_count": 23,
     "metadata": {},
     "output_type": "execute_result"
    }
   ],
   "source": [
    "rohan.students_details()"
   ]
  },
  {
   "cell_type": "code",
   "execution_count": 24,
   "id": "a2212c95",
   "metadata": {},
   "outputs": [
    {
     "data": {
      "text/plain": [
       "845941190"
      ]
     },
     "execution_count": 24,
     "metadata": {},
     "output_type": "execute_result"
    }
   ],
   "source": [
    "rohan.phone_number"
   ]
  },
  {
   "cell_type": "code",
   "execution_count": 25,
   "id": "2cb7b8d0",
   "metadata": {},
   "outputs": [
    {
     "data": {
      "text/plain": [
       "'raorudhra@gmail.com'"
      ]
     },
     "execution_count": 25,
     "metadata": {},
     "output_type": "execute_result"
    }
   ],
   "source": [
    "rohan.email"
   ]
  },
  {
   "cell_type": "code",
   "execution_count": 26,
   "id": "7ddc57f2",
   "metadata": {},
   "outputs": [
    {
     "data": {
      "text/plain": [
       "'113rao'"
      ]
     },
     "execution_count": 26,
     "metadata": {},
     "output_type": "execute_result"
    }
   ],
   "source": [
    "rohan.student_id"
   ]
  },
  {
   "cell_type": "code",
   "execution_count": 27,
   "id": "4b03a608",
   "metadata": {},
   "outputs": [],
   "source": [
    "sohan = Pwskills1(88878723,'sohan@gmail.com','114soh')"
   ]
  },
  {
   "cell_type": "code",
   "execution_count": 28,
   "id": "3163ad0f",
   "metadata": {},
   "outputs": [
    {
     "data": {
      "text/plain": [
       "(88878723, 'sohan@gmail.com', '114soh')"
      ]
     },
     "execution_count": 28,
     "metadata": {},
     "output_type": "execute_result"
    }
   ],
   "source": [
    "sohan.students_details()"
   ]
  },
  {
   "cell_type": "code",
   "execution_count": 29,
   "id": "30d950b8",
   "metadata": {},
   "outputs": [
    {
     "data": {
      "text/plain": [
       "88878723"
      ]
     },
     "execution_count": 29,
     "metadata": {},
     "output_type": "execute_result"
    }
   ],
   "source": [
    "sohan.phone_number"
   ]
  },
  {
   "cell_type": "code",
   "execution_count": 30,
   "id": "98385b7d",
   "metadata": {},
   "outputs": [
    {
     "data": {
      "text/plain": [
       "'sohan@gmail.com'"
      ]
     },
     "execution_count": 30,
     "metadata": {},
     "output_type": "execute_result"
    }
   ],
   "source": [
    "sohan.email"
   ]
  },
  {
   "cell_type": "code",
   "execution_count": 31,
   "id": "c87c0e9a",
   "metadata": {},
   "outputs": [
    {
     "data": {
      "text/plain": [
       "'114soh'"
      ]
     },
     "execution_count": 31,
     "metadata": {},
     "output_type": "execute_result"
    }
   ],
   "source": [
    "sohan.student_id"
   ]
  },
  {
   "cell_type": "code",
   "execution_count": null,
   "id": "d94f78c5",
   "metadata": {},
   "outputs": [],
   "source": []
  }
 ],
 "metadata": {
  "kernelspec": {
   "display_name": "Python 3 (ipykernel)",
   "language": "python",
   "name": "python3"
  },
  "language_info": {
   "codemirror_mode": {
    "name": "ipython",
    "version": 3
   },
   "file_extension": ".py",
   "mimetype": "text/x-python",
   "name": "python",
   "nbconvert_exporter": "python",
   "pygments_lexer": "ipython3",
   "version": "3.10.4"
  }
 },
 "nbformat": 4,
 "nbformat_minor": 5
}
