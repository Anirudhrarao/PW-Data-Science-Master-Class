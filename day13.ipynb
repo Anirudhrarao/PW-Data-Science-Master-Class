{
 "cells": [
  {
   "cell_type": "markdown",
   "id": "c6cc72ab",
   "metadata": {},
   "source": [
    "### List of general usen exceptions"
   ]
  },
  {
   "cell_type": "code",
   "execution_count": 1,
   "id": "193f2c59",
   "metadata": {},
   "outputs": [
    {
     "name": "stdout",
     "output_type": "stream",
     "text": [
      "division by zero\n"
     ]
    }
   ],
   "source": [
    "try:\n",
    "    a = 10\n",
    "    10/0\n",
    "except ZeroDivisionError as e:\n",
    "    print(e)"
   ]
  },
  {
   "cell_type": "code",
   "execution_count": 2,
   "id": "6a722e59",
   "metadata": {},
   "outputs": [
    {
     "name": "stdout",
     "output_type": "stream",
     "text": [
      "invalid literal for int() with base 10: 'Anirudhra'\n"
     ]
    }
   ],
   "source": [
    "try:\n",
    "    int(\"Anirudhra\")\n",
    "except (ValueError,TypeError) as e:\n",
    "    print(e)"
   ]
  },
  {
   "cell_type": "code",
   "execution_count": 3,
   "id": "cd7d26e9",
   "metadata": {},
   "outputs": [
    {
     "name": "stdout",
     "output_type": "stream",
     "text": [
      "This will catch error\n"
     ]
    }
   ],
   "source": [
    "try:\n",
    "    int(\"rao\")\n",
    "except:\n",
    "    print(\"This will catch error\")"
   ]
  },
  {
   "cell_type": "code",
   "execution_count": 4,
   "id": "b1ba8eca",
   "metadata": {},
   "outputs": [
    {
     "name": "stdout",
     "output_type": "stream",
     "text": [
      "No module named 'sudh'\n"
     ]
    }
   ],
   "source": [
    "try:\n",
    "    import sudh\n",
    "except ImportError as e:\n",
    "    print(e)"
   ]
  },
  {
   "cell_type": "code",
   "execution_count": 5,
   "id": "cdc420b8",
   "metadata": {},
   "outputs": [
    {
     "name": "stdout",
     "output_type": "stream",
     "text": [
      "'keys'\n"
     ]
    }
   ],
   "source": [
    "try:\n",
    "    d = {1:[3,4,4],\"key\":\"rao\"}\n",
    "    d[\"keys\"]\n",
    "except KeyError as e:\n",
    "    print(e)"
   ]
  },
  {
   "cell_type": "code",
   "execution_count": 6,
   "id": "925ac83b",
   "metadata": {},
   "outputs": [
    {
     "name": "stdout",
     "output_type": "stream",
     "text": [
      "'str' object has no attribute 'test'\n"
     ]
    }
   ],
   "source": [
    "try:\n",
    "    \"anirudhra\".test()\n",
    "except AttributeError as e:\n",
    "    print(e)"
   ]
  },
  {
   "cell_type": "code",
   "execution_count": 8,
   "id": "38b5c22f",
   "metadata": {},
   "outputs": [
    {
     "name": "stdout",
     "output_type": "stream",
     "text": [
      "list index out of range\n"
     ]
    }
   ],
   "source": [
    "try:\n",
    "    l = [1,2,3,4,5]\n",
    "    l[10]\n",
    "except IndexError as e:\n",
    "    print(e)"
   ]
  },
  {
   "cell_type": "code",
   "execution_count": 9,
   "id": "e4148fda",
   "metadata": {},
   "outputs": [
    {
     "name": "stdout",
     "output_type": "stream",
     "text": [
      "unsupported operand type(s) for +: 'int' and 'str'\n"
     ]
    }
   ],
   "source": [
    "try:\n",
    "    121+\"rao\"\n",
    "except TypeError as e:\n",
    "    print(e)"
   ]
  },
  {
   "cell_type": "code",
   "execution_count": 12,
   "id": "3e6d3936",
   "metadata": {},
   "outputs": [
    {
     "name": "stdout",
     "output_type": "stream",
     "text": [
      "[Errno 2] No such file or directory: 'tets.txt'\n"
     ]
    }
   ],
   "source": [
    "try:\n",
    "    with open('tets.txt','r') as f:\n",
    "        f.read()\n",
    "except Exception as e:\n",
    "    print(e)\n",
    "except FileNotFoundError as e:\n",
    "    print('Something',e)\n",
    "#     The op is done by Exception class not Filenotfounderror"
   ]
  },
  {
   "cell_type": "markdown",
   "id": "8c3d6c76",
   "metadata": {},
   "source": [
    "### Best practice of exceptions handling"
   ]
  },
  {
   "cell_type": "code",
   "execution_count": 14,
   "id": "fbb9024b",
   "metadata": {},
   "outputs": [
    {
     "name": "stdout",
     "output_type": "stream",
     "text": [
      "division by zero\n"
     ]
    }
   ],
   "source": [
    "# use always specific exceptions\n",
    "try:\n",
    "    10/0\n",
    "# Not recommended \n",
    "# except Exception as e:\n",
    "#     print(e)\n",
    "# recommended\n",
    "except ZeroDivisionError as e:\n",
    "    print(e)"
   ]
  },
  {
   "cell_type": "code",
   "execution_count": 15,
   "id": "6cfe2db1",
   "metadata": {},
   "outputs": [
    {
     "name": "stdout",
     "output_type": "stream",
     "text": [
      "Zero divison not possible\n"
     ]
    }
   ],
   "source": [
    "# Print always msgs\n",
    "try:\n",
    "    10/0\n",
    "except ZeroDivisionError as e:\n",
    "    print('Zero divison not possible')"
   ]
  },
  {
   "cell_type": "code",
   "execution_count": 16,
   "id": "6f4b419e",
   "metadata": {},
   "outputs": [],
   "source": [
    "# always to try to log\n",
    "import logging\n",
    "logging.basicConfig(filename=\"error.log\",level=logging.ERROR)\n",
    "try:\n",
    "    10/0\n",
    "except ZeroDivisionError as e:\n",
    "    logging.error('Zero divison.')"
   ]
  },
  {
   "cell_type": "code",
   "execution_count": 19,
   "id": "d7720025",
   "metadata": {},
   "outputs": [],
   "source": [
    "# always avoid multiple exception handling\n",
    "# always try to prepare proper documentations with errors"
   ]
  },
  {
   "cell_type": "code",
   "execution_count": 22,
   "id": "4747f6cc",
   "metadata": {},
   "outputs": [],
   "source": [
    "# always try clean up all ther resources\n",
    "try:\n",
    "    with open('anirudh.txt','w') as f:\n",
    "        f.write('This is about files.')\n",
    "except FileNotFoundError as e:\n",
    "    logging.error('File not found {}'.format(e))\n",
    "finally:\n",
    "    f.close()"
   ]
  },
  {
   "cell_type": "code",
   "execution_count": null,
   "id": "fffa7c98",
   "metadata": {},
   "outputs": [],
   "source": []
  }
 ],
 "metadata": {
  "kernelspec": {
   "display_name": "Python 3 (ipykernel)",
   "language": "python",
   "name": "python3"
  },
  "language_info": {
   "codemirror_mode": {
    "name": "ipython",
    "version": 3
   },
   "file_extension": ".py",
   "mimetype": "text/x-python",
   "name": "python",
   "nbconvert_exporter": "python",
   "pygments_lexer": "ipython3",
   "version": "3.11.1"
  }
 },
 "nbformat": 4,
 "nbformat_minor": 5
}
