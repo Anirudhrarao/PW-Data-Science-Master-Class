{
 "cells": [
  {
   "cell_type": "markdown",
   "id": "2f7937af",
   "metadata": {},
   "source": [
    "### Buffered Read and  Write"
   ]
  },
  {
   "cell_type": "code",
   "execution_count": 27,
   "id": "356bef72",
   "metadata": {},
   "outputs": [],
   "source": [
    "import io"
   ]
  },
  {
   "cell_type": "code",
   "execution_count": 28,
   "id": "249b56ed",
   "metadata": {},
   "outputs": [],
   "source": [
    "with open(\"test.txt\",\"wb\") as f:\n",
    "    file = io.BufferedWriter(f)\n",
    "    file.write(b\"This is my buffer write\\n\")\n",
    "    file.write(b\"This is my second line of buffer\")\n",
    "    file.flush()"
   ]
  },
  {
   "cell_type": "code",
   "execution_count": 29,
   "id": "6be7b444",
   "metadata": {},
   "outputs": [
    {
     "name": "stdout",
     "output_type": "stream",
     "text": [
      "b'This is my buffer write\\nThis is my second line of buffer'\n"
     ]
    }
   ],
   "source": [
    "with open(\"test.txt\",\"rb\") as f:\n",
    "    file = io.BufferedReader(f)\n",
    "    data = file.read()\n",
    "    print(data)"
   ]
  },
  {
   "cell_type": "markdown",
   "id": "974aa76d",
   "metadata": {},
   "source": [
    "### Logging and Debugger"
   ]
  },
  {
   "cell_type": "code",
   "execution_count": 30,
   "id": "04015b9a",
   "metadata": {},
   "outputs": [
    {
     "name": "stdout",
     "output_type": "stream",
     "text": [
      "This is statement\n"
     ]
    }
   ],
   "source": [
    "print(\"This is statement\")"
   ]
  },
  {
   "cell_type": "code",
   "execution_count": 31,
   "id": "48543fd1",
   "metadata": {},
   "outputs": [],
   "source": [
    "import logging"
   ]
  },
  {
   "cell_type": "code",
   "execution_count": 32,
   "id": "c46d1d06",
   "metadata": {},
   "outputs": [],
   "source": [
    "logging.basicConfig(filename = \"test.log\", level = logging.INFO, format = '%(asctime)s %(message)s')"
   ]
  },
  {
   "cell_type": "code",
   "execution_count": 33,
   "id": "9d87b3b0",
   "metadata": {},
   "outputs": [],
   "source": [
    "logging.info(\"this is line of execution\")"
   ]
  },
  {
   "cell_type": "code",
   "execution_count": 34,
   "id": "0106eccc",
   "metadata": {},
   "outputs": [],
   "source": [
    "logging.error(\"This is error\")"
   ]
  },
  {
   "cell_type": "code",
   "execution_count": 35,
   "id": "e0324833",
   "metadata": {},
   "outputs": [],
   "source": [
    "logging.critical(\"This is critical\")"
   ]
  },
  {
   "cell_type": "code",
   "execution_count": 36,
   "id": "ae7d0bb7",
   "metadata": {},
   "outputs": [],
   "source": [
    "logging.warning(\"Warnings are there guys\")"
   ]
  },
  {
   "cell_type": "markdown",
   "id": "ec9445ae",
   "metadata": {},
   "source": [
    "1. NOSET\n",
    "2. DEBUG\n",
    "3. INFO\n",
    "4. WARNING\n",
    "5. ERROR\n",
    "6. CRITICAL\n",
    "\n",
    "### Logging follows this hierarchy\n",
    "* Which means above example as you can see we set level = as info means below the info warning error and critical will all are consider."
   ]
  },
  {
   "cell_type": "code",
   "execution_count": 37,
   "id": "914999f8",
   "metadata": {},
   "outputs": [],
   "source": [
    "logging.debug(\"DEbug\")"
   ]
  },
  {
   "cell_type": "code",
   "execution_count": 38,
   "id": "c6f6c717",
   "metadata": {},
   "outputs": [],
   "source": [
    "logging.shutdown()"
   ]
  },
  {
   "cell_type": "code",
   "execution_count": 3,
   "id": "331a1e84",
   "metadata": {},
   "outputs": [],
   "source": [
    "import logging\n",
    "logging.basicConfig(filename = \"test3.log\", level = logging.DEBUG, format = '%(asctime)s %(name)s %(levelname)s %(message)s')"
   ]
  },
  {
   "cell_type": "code",
   "execution_count": 4,
   "id": "d3555bb3",
   "metadata": {},
   "outputs": [],
   "source": [
    "logging.info(\"This is my info.\")"
   ]
  },
  {
   "cell_type": "code",
   "execution_count": 5,
   "id": "f9989c72",
   "metadata": {},
   "outputs": [],
   "source": [
    "l = [1,2,3,4,[4,5,6],\"anirudhra\"]"
   ]
  },
  {
   "cell_type": "code",
   "execution_count": 6,
   "id": "03b5fcd4",
   "metadata": {},
   "outputs": [],
   "source": [
    "l_int = []\n",
    "l_str = []"
   ]
  },
  {
   "cell_type": "code",
   "execution_count": 13,
   "id": "a46dd09b",
   "metadata": {},
   "outputs": [],
   "source": [
    "for i in l:\n",
    "    logging.info(\"start of for loop {}\".format(l))\n",
    "    logging.info(\"this is value of i am logging {}\".format(i))\n",
    "    if type(i) == list:\n",
    "        for j in i:\n",
    "            if type(j) == int:\n",
    "                l_int.append(j)\n",
    "    elif type(i) == int:\n",
    "        l_int.append(i)\n",
    "    else:\n",
    "        l_str.append(i)\n",
    "        "
   ]
  },
  {
   "cell_type": "code",
   "execution_count": 14,
   "id": "97f26203",
   "metadata": {},
   "outputs": [
    {
     "data": {
      "text/plain": [
       "[1, 2, 3, 4, 4, 5, 6, 1, 2, 3, 4, 4, 5, 6, 1, 2, 3, 4, 4, 5, 6]"
      ]
     },
     "execution_count": 14,
     "metadata": {},
     "output_type": "execute_result"
    }
   ],
   "source": [
    "l_int"
   ]
  },
  {
   "cell_type": "code",
   "execution_count": 15,
   "id": "d7b32f9c",
   "metadata": {},
   "outputs": [
    {
     "data": {
      "text/plain": [
       "['anirudhra', 'anirudhra', 'anirudhra']"
      ]
     },
     "execution_count": 15,
     "metadata": {},
     "output_type": "execute_result"
    }
   ],
   "source": [
    "l_str"
   ]
  },
  {
   "cell_type": "code",
   "execution_count": null,
   "id": "7805609d",
   "metadata": {},
   "outputs": [],
   "source": []
  }
 ],
 "metadata": {
  "kernelspec": {
   "display_name": "Python 3 (ipykernel)",
   "language": "python",
   "name": "python3"
  },
  "language_info": {
   "codemirror_mode": {
    "name": "ipython",
    "version": 3
   },
   "file_extension": ".py",
   "mimetype": "text/x-python",
   "name": "python",
   "nbconvert_exporter": "python",
   "pygments_lexer": "ipython3",
   "version": "3.11.1"
  }
 },
 "nbformat": 4,
 "nbformat_minor": 5
}
