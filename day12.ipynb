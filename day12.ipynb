{
 "cells": [
  {
   "cell_type": "markdown",
   "id": "6f15a308",
   "metadata": {},
   "source": [
    "### Exceptions Handling"
   ]
  },
  {
   "cell_type": "code",
   "execution_count": 6,
   "id": "23f0614d",
   "metadata": {},
   "outputs": [
    {
     "name": "stdout",
     "output_type": "stream",
     "text": [
      "there is some issue with my code [Errno 2] No such file or directory: 'demons.txt'\n"
     ]
    }
   ],
   "source": [
    "#  if there is an error definetly handle by our except\n",
    "try:\n",
    "    f = open(\"demons.txt\",'r')\n",
    "except Exception as e:\n",
    "    print(\"there is some issue with my code\",e)"
   ]
  },
  {
   "cell_type": "code",
   "execution_count": 12,
   "id": "5d2e5b75",
   "metadata": {},
   "outputs": [
    {
     "name": "stdout",
     "output_type": "stream",
     "text": [
      "there is some issue with my code [Errno 2] No such file or directory: 'demodnd.txt'\n"
     ]
    }
   ],
   "source": [
    "# if our try block succes then else will execute.\n",
    "try:\n",
    "    f = open(\"demodnd.txt\",'r')\n",
    "    f.write(\"hello there\")\n",
    "except Exception as e:\n",
    "    print(\"there is some issue with my code\",e)   \n",
    "else:\n",
    "    f.close()\n",
    "    print('Executes itself without an exception')"
   ]
  },
  {
   "cell_type": "code",
   "execution_count": 13,
   "id": "dc09fd56",
   "metadata": {},
   "outputs": [
    {
     "name": "stdout",
     "output_type": "stream",
     "text": [
      "There is some error [Errno 2] No such file or directory: 'demodnd.txt'\n",
      "It will executes all the time whether there is error or not\n"
     ]
    }
   ],
   "source": [
    "# There is not matter whether is there is error or not finally will always run its code.\n",
    "try:\n",
    "    f = open(\"demodnd.txt\",'r')\n",
    "    f.write(\"hello there\")\n",
    "except Exception as e:\n",
    "    print('There is some error',e)\n",
    "finally:\n",
    "    print('It will executes all the time whether there is error or not')"
   ]
  },
  {
   "cell_type": "markdown",
   "id": "5fe18690",
   "metadata": {},
   "source": [
    "### Custom Exceptions Handling"
   ]
  },
  {
   "cell_type": "code",
   "execution_count": 15,
   "id": "4c534c13",
   "metadata": {},
   "outputs": [
    {
     "name": "stdout",
     "output_type": "stream",
     "text": [
      "Enter your age: -212\n"
     ]
    }
   ],
   "source": [
    "age = int(input('Enter your age: '))"
   ]
  },
  {
   "cell_type": "code",
   "execution_count": 16,
   "id": "eeda42f5",
   "metadata": {},
   "outputs": [],
   "source": [
    "class VaidateAge(Exception):\n",
    "    def __init__(self,msg):\n",
    "        self.msg = msg"
   ]
  },
  {
   "cell_type": "code",
   "execution_count": 18,
   "id": "fd69ab28",
   "metadata": {},
   "outputs": [],
   "source": [
    "def validateage(age):\n",
    "    if age < 0:\n",
    "        raise VaidateAge(\"Age should not be lesser than zero.\")\n",
    "    elif age > 200:\n",
    "        raise VaidateAge(\"Age is to high\")\n",
    "    else:\n",
    "        print(\"Age is valid\")"
   ]
  },
  {
   "cell_type": "code",
   "execution_count": 23,
   "id": "6b0b1514",
   "metadata": {},
   "outputs": [
    {
     "name": "stdout",
     "output_type": "stream",
     "text": [
      "Enter your age: -129\n",
      "Age should not be lesser than zero.\n"
     ]
    }
   ],
   "source": [
    "try:\n",
    "    age = int(input(\"Enter your age: \"))\n",
    "    validateage(age)\n",
    "except VaidateAge as e:\n",
    "    print(e)"
   ]
  },
  {
   "cell_type": "code",
   "execution_count": null,
   "id": "f804fb82",
   "metadata": {},
   "outputs": [],
   "source": []
  }
 ],
 "metadata": {
  "kernelspec": {
   "display_name": "Python 3 (ipykernel)",
   "language": "python",
   "name": "python3"
  },
  "language_info": {
   "codemirror_mode": {
    "name": "ipython",
    "version": 3
   },
   "file_extension": ".py",
   "mimetype": "text/x-python",
   "name": "python",
   "nbconvert_exporter": "python",
   "pygments_lexer": "ipython3",
   "version": "3.11.1"
  }
 },
 "nbformat": 4,
 "nbformat_minor": 5
}
