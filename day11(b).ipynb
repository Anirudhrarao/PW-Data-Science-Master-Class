{
 "cells": [
  {
   "cell_type": "markdown",
   "id": "ff99c017",
   "metadata": {},
   "source": [
    "### File reading and writing"
   ]
  },
  {
   "cell_type": "code",
   "execution_count": 11,
   "id": "91b20e2d",
   "metadata": {},
   "outputs": [],
   "source": [
    "data = {\n",
    "    \"name\": \"Anirudhra\",\n",
    "    \"email\": \"rao@gmail.com\",\n",
    "    \"phone_number\":8459431904,\n",
    "    \"course\": \"data science\"\n",
    "}"
   ]
  },
  {
   "cell_type": "code",
   "execution_count": 12,
   "id": "e70c3e41",
   "metadata": {},
   "outputs": [
    {
     "data": {
      "text/plain": [
       "{'name': 'Anirudhra',\n",
       " 'email': 'rao@gmail.com',\n",
       " 'phone_number': 8459431904,\n",
       " 'course': 'data science'}"
      ]
     },
     "execution_count": 12,
     "metadata": {},
     "output_type": "execute_result"
    }
   ],
   "source": [
    "data"
   ]
  },
  {
   "cell_type": "markdown",
   "id": "19fcbb8e",
   "metadata": {},
   "source": [
    "### Json file"
   ]
  },
  {
   "cell_type": "code",
   "execution_count": 13,
   "id": "c6763efb",
   "metadata": {},
   "outputs": [],
   "source": [
    "import json"
   ]
  },
  {
   "cell_type": "code",
   "execution_count": 15,
   "id": "7fd1b8b0",
   "metadata": {},
   "outputs": [],
   "source": [
    "with open(\"test2.json\",\"w\") as f:\n",
    "    json.dump(data,f)"
   ]
  },
  {
   "cell_type": "code",
   "execution_count": 19,
   "id": "eb375209",
   "metadata": {},
   "outputs": [],
   "source": [
    "with open(\"test2.json\",\"r\") as f:\n",
    "    datas = json.load(f)"
   ]
  },
  {
   "cell_type": "code",
   "execution_count": 21,
   "id": "6d79426e",
   "metadata": {},
   "outputs": [
    {
     "data": {
      "text/plain": [
       "{'name': 'Anirudhra',\n",
       " 'email': 'rao@gmail.com',\n",
       " 'phone_number': 8459431904,\n",
       " 'course': 'data science'}"
      ]
     },
     "execution_count": 21,
     "metadata": {},
     "output_type": "execute_result"
    }
   ],
   "source": [
    "datas"
   ]
  },
  {
   "cell_type": "markdown",
   "id": "1052198c",
   "metadata": {},
   "source": [
    "### CSV File"
   ]
  },
  {
   "cell_type": "code",
   "execution_count": 22,
   "id": "b1ee6970",
   "metadata": {},
   "outputs": [],
   "source": [
    "data = [\n",
    "    [\"name\",\"email\",\"number\"],\n",
    "    [\"yash\",\"yash@gmail.com\",56345435],\n",
    "    [\"anirudhra\",'rao@gmail.com',4353535]\n",
    "]"
   ]
  },
  {
   "cell_type": "code",
   "execution_count": 23,
   "id": "00c62a94",
   "metadata": {},
   "outputs": [
    {
     "data": {
      "text/plain": [
       "[['name', 'email', 'number'],\n",
       " ['yash', 'yash@gmail.com', 56345435],\n",
       " ['anirudhra', 'rao@gmail.com', 4353535]]"
      ]
     },
     "execution_count": 23,
     "metadata": {},
     "output_type": "execute_result"
    }
   ],
   "source": [
    "data"
   ]
  },
  {
   "cell_type": "code",
   "execution_count": 24,
   "id": "97e0a806",
   "metadata": {},
   "outputs": [],
   "source": [
    "import csv"
   ]
  },
  {
   "cell_type": "code",
   "execution_count": 27,
   "id": "c03fa798",
   "metadata": {},
   "outputs": [],
   "source": [
    "with open(\"test.csv\",\"w\") as f:\n",
    "    w = csv.writer(f)\n",
    "    for i in data:\n",
    "        w.writerow(i)"
   ]
  },
  {
   "cell_type": "code",
   "execution_count": 31,
   "id": "b2283bc3",
   "metadata": {},
   "outputs": [
    {
     "name": "stdout",
     "output_type": "stream",
     "text": [
      "['name', 'email', 'number']\n",
      "[]\n",
      "['yash', 'yash@gmail.com', '56345435']\n",
      "[]\n",
      "['anirudhra', 'rao@gmail.com', '4353535']\n",
      "[]\n"
     ]
    }
   ],
   "source": [
    "with open(\"test.csv\",\"r\") as f:\n",
    "    read = csv.reader(f)\n",
    "    for i in read:\n",
    "        print(i)"
   ]
  },
  {
   "cell_type": "markdown",
   "id": "d21e0ac8",
   "metadata": {},
   "source": [
    "### Binary File"
   ]
  },
  {
   "cell_type": "code",
   "execution_count": 35,
   "id": "02b8cb83",
   "metadata": {},
   "outputs": [],
   "source": [
    "with open(\"test.bin\",\"wb\") as f:\n",
    "    f.write(b\"\\x01\\x02\\x03\\x04\\x05\")"
   ]
  },
  {
   "cell_type": "code",
   "execution_count": 37,
   "id": "d4144160",
   "metadata": {},
   "outputs": [
    {
     "name": "stdout",
     "output_type": "stream",
     "text": [
      "b'\\x01\\x02\\x03\\x04\\x05'\n"
     ]
    }
   ],
   "source": [
    "with open(\"test.bin\",\"rb\") as f:\n",
    "    print(f.read())"
   ]
  }
 ],
 "metadata": {
  "kernelspec": {
   "display_name": "Python 3 (ipykernel)",
   "language": "python",
   "name": "python3"
  },
  "language_info": {
   "codemirror_mode": {
    "name": "ipython",
    "version": 3
   },
   "file_extension": ".py",
   "mimetype": "text/x-python",
   "name": "python",
   "nbconvert_exporter": "python",
   "pygments_lexer": "ipython3",
   "version": "3.11.1"
  }
 },
 "nbformat": 4,
 "nbformat_minor": 5
}
