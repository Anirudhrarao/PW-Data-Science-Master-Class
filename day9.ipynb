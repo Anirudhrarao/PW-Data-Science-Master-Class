{
 "cells": [
  {
   "cell_type": "markdown",
   "id": "926431f2",
   "metadata": {},
   "source": [
    "### Polymorphism"
   ]
  },
  {
   "cell_type": "code",
   "execution_count": 2,
   "id": "cb0f674e",
   "metadata": {},
   "outputs": [],
   "source": [
    "def test(a,b):\n",
    "    return a+b"
   ]
  },
  {
   "cell_type": "code",
   "execution_count": 3,
   "id": "90beb1cd",
   "metadata": {},
   "outputs": [
    {
     "data": {
      "text/plain": [
       "5"
      ]
     },
     "execution_count": 3,
     "metadata": {},
     "output_type": "execute_result"
    }
   ],
   "source": [
    "test(2,3)"
   ]
  },
  {
   "cell_type": "code",
   "execution_count": 4,
   "id": "37e76507",
   "metadata": {},
   "outputs": [
    {
     "data": {
      "text/plain": [
       "'Aniruddh rao'"
      ]
     },
     "execution_count": 4,
     "metadata": {},
     "output_type": "execute_result"
    }
   ],
   "source": [
    "test(\"Aniruddh \",\"rao\")"
   ]
  },
  {
   "cell_type": "code",
   "execution_count": 5,
   "id": "f351ea54",
   "metadata": {},
   "outputs": [],
   "source": [
    "class Datascience:\n",
    "    def syllabus(self):\n",
    "        print(\"This is DS\")"
   ]
  },
  {
   "cell_type": "code",
   "execution_count": 6,
   "id": "b8c6790b",
   "metadata": {},
   "outputs": [],
   "source": [
    "class WebDev():\n",
    "    def syllabus(self):\n",
    "        print(\"This is WEB\")"
   ]
  },
  {
   "cell_type": "code",
   "execution_count": 7,
   "id": "8e0e62cd",
   "metadata": {},
   "outputs": [],
   "source": [
    "def class_parser(class_obj):\n",
    "    for i in class_obj:\n",
    "        i.syllabus()"
   ]
  },
  {
   "cell_type": "code",
   "execution_count": 8,
   "id": "ac8e1f2f",
   "metadata": {},
   "outputs": [],
   "source": [
    "obj_ds = Datascience()"
   ]
  },
  {
   "cell_type": "code",
   "execution_count": 9,
   "id": "de4ca9b8",
   "metadata": {},
   "outputs": [],
   "source": [
    "obj_web = WebDev()"
   ]
  },
  {
   "cell_type": "code",
   "execution_count": 10,
   "id": "54901c84",
   "metadata": {},
   "outputs": [],
   "source": [
    "class_obj = [obj_ds,obj_web]"
   ]
  },
  {
   "cell_type": "code",
   "execution_count": 11,
   "id": "b748acad",
   "metadata": {},
   "outputs": [
    {
     "name": "stdout",
     "output_type": "stream",
     "text": [
      "This is DS\n",
      "This is WEB\n"
     ]
    }
   ],
   "source": [
    "class_parser(class_obj)"
   ]
  },
  {
   "cell_type": "markdown",
   "id": "2088063b",
   "metadata": {},
   "source": [
    "### Encapsulations"
   ]
  },
  {
   "cell_type": "code",
   "execution_count": 12,
   "id": "f7640eb7",
   "metadata": {},
   "outputs": [],
   "source": [
    "class Test():\n",
    "    def __init__(self, a, b):\n",
    "        self.a = a\n",
    "        self.b = b"
   ]
  },
  {
   "cell_type": "code",
   "execution_count": 13,
   "id": "d6cce99c",
   "metadata": {},
   "outputs": [],
   "source": [
    "t = Test(45,56)"
   ]
  },
  {
   "cell_type": "code",
   "execution_count": 14,
   "id": "58a54e66",
   "metadata": {},
   "outputs": [
    {
     "data": {
      "text/plain": [
       "45"
      ]
     },
     "execution_count": 14,
     "metadata": {},
     "output_type": "execute_result"
    }
   ],
   "source": [
    "t.a"
   ]
  },
  {
   "cell_type": "code",
   "execution_count": 15,
   "id": "988b7f0f",
   "metadata": {},
   "outputs": [
    {
     "data": {
      "text/plain": [
       "56"
      ]
     },
     "execution_count": 15,
     "metadata": {},
     "output_type": "execute_result"
    }
   ],
   "source": [
    "t.b"
   ]
  },
  {
   "cell_type": "code",
   "execution_count": 16,
   "id": "c076fe6a",
   "metadata": {},
   "outputs": [],
   "source": [
    "t.a = 121"
   ]
  },
  {
   "cell_type": "code",
   "execution_count": 17,
   "id": "81d26061",
   "metadata": {},
   "outputs": [
    {
     "data": {
      "text/plain": [
       "121"
      ]
     },
     "execution_count": 17,
     "metadata": {},
     "output_type": "execute_result"
    }
   ],
   "source": [
    "t.a"
   ]
  },
  {
   "cell_type": "code",
   "execution_count": 42,
   "id": "ae3f210e",
   "metadata": {},
   "outputs": [],
   "source": [
    "class Car:\n",
    "    def __init__(self,year,make,model,speed):\n",
    "        #private attributes of class    \n",
    "        #Hiding implementations of class         \n",
    "        self.__year = year\n",
    "        self.__make = make\n",
    "        self.__model = model\n",
    "        self.__speed = 0\n",
    "    \n",
    "    def set_speed(self,speed):\n",
    "        self.__speed = 0 if speed < 0 else speed\n",
    "        \n",
    "    def get_speed(self):\n",
    "        return self.__speed"
   ]
  },
  {
   "cell_type": "code",
   "execution_count": 43,
   "id": "829bacbc",
   "metadata": {},
   "outputs": [],
   "source": [
    "obj = Car(2021,'Toyota','Innova',120)"
   ]
  },
  {
   "cell_type": "code",
   "execution_count": 44,
   "id": "75bc09f3",
   "metadata": {},
   "outputs": [
    {
     "data": {
      "text/plain": [
       "2021"
      ]
     },
     "execution_count": 44,
     "metadata": {},
     "output_type": "execute_result"
    }
   ],
   "source": [
    "obj._Car__year"
   ]
  },
  {
   "cell_type": "code",
   "execution_count": 45,
   "id": "671795f8",
   "metadata": {},
   "outputs": [
    {
     "data": {
      "text/plain": [
       "'Innova'"
      ]
     },
     "execution_count": 45,
     "metadata": {},
     "output_type": "execute_result"
    }
   ],
   "source": [
    "obj._Car__model"
   ]
  },
  {
   "cell_type": "code",
   "execution_count": 46,
   "id": "0ad19fb7",
   "metadata": {},
   "outputs": [
    {
     "data": {
      "text/plain": [
       "'Toyota'"
      ]
     },
     "execution_count": 46,
     "metadata": {},
     "output_type": "execute_result"
    }
   ],
   "source": [
    "obj._Car__make"
   ]
  },
  {
   "cell_type": "code",
   "execution_count": 47,
   "id": "7b33daf6",
   "metadata": {},
   "outputs": [
    {
     "data": {
      "text/plain": [
       "0"
      ]
     },
     "execution_count": 47,
     "metadata": {},
     "output_type": "execute_result"
    }
   ],
   "source": [
    "obj._Car__speed"
   ]
  },
  {
   "cell_type": "code",
   "execution_count": 48,
   "id": "8386d1f8",
   "metadata": {},
   "outputs": [],
   "source": [
    "obj._Car__year = 2022"
   ]
  },
  {
   "cell_type": "code",
   "execution_count": 49,
   "id": "280767ea",
   "metadata": {},
   "outputs": [
    {
     "data": {
      "text/plain": [
       "2022"
      ]
     },
     "execution_count": 49,
     "metadata": {},
     "output_type": "execute_result"
    }
   ],
   "source": [
    "obj._Car__year"
   ]
  },
  {
   "cell_type": "code",
   "execution_count": 50,
   "id": "1fee8480",
   "metadata": {},
   "outputs": [],
   "source": [
    "obj.set_speed(2220)"
   ]
  },
  {
   "cell_type": "code",
   "execution_count": 51,
   "id": "231640ff",
   "metadata": {},
   "outputs": [
    {
     "data": {
      "text/plain": [
       "2220"
      ]
     },
     "execution_count": 51,
     "metadata": {},
     "output_type": "execute_result"
    }
   ],
   "source": [
    "obj.get_speed()"
   ]
  },
  {
   "cell_type": "code",
   "execution_count": null,
   "id": "b84cd8bb",
   "metadata": {},
   "outputs": [],
   "source": []
  },
  {
   "cell_type": "code",
   "execution_count": 52,
   "id": "4d64bf68",
   "metadata": {},
   "outputs": [],
   "source": [
    "class BankAccount():\n",
    "    def __init__(self,balance):\n",
    "        self.__balance = balance\n",
    "        \n",
    "    def deposit(self,amount):\n",
    "        self.__balance = self.__balance + amount\n",
    "        \n",
    "    def withdraw(self,amount):\n",
    "        if self.__balance >= amount:\n",
    "            self.__balance = self.__balance - amount\n",
    "            return True\n",
    "        else:\n",
    "            return False\n",
    "        \n",
    "    def get_balance(self):\n",
    "        return self.__balance"
   ]
  },
  {
   "cell_type": "code",
   "execution_count": 53,
   "id": "3fd2ca97",
   "metadata": {},
   "outputs": [],
   "source": [
    "obj = BankAccount(10000)"
   ]
  },
  {
   "cell_type": "code",
   "execution_count": 54,
   "id": "babd8499",
   "metadata": {},
   "outputs": [
    {
     "data": {
      "text/plain": [
       "10000"
      ]
     },
     "execution_count": 54,
     "metadata": {},
     "output_type": "execute_result"
    }
   ],
   "source": [
    "obj.get_balance()"
   ]
  },
  {
   "cell_type": "code",
   "execution_count": 55,
   "id": "43e3151b",
   "metadata": {},
   "outputs": [],
   "source": [
    "obj.deposit(5000)"
   ]
  },
  {
   "cell_type": "code",
   "execution_count": 56,
   "id": "017e167a",
   "metadata": {},
   "outputs": [
    {
     "data": {
      "text/plain": [
       "15000"
      ]
     },
     "execution_count": 56,
     "metadata": {},
     "output_type": "execute_result"
    }
   ],
   "source": [
    "obj.get_balance()"
   ]
  },
  {
   "cell_type": "code",
   "execution_count": 58,
   "id": "8f096a0f",
   "metadata": {},
   "outputs": [
    {
     "data": {
      "text/plain": [
       "True"
      ]
     },
     "execution_count": 58,
     "metadata": {},
     "output_type": "execute_result"
    }
   ],
   "source": [
    "obj.withdraw(12000)"
   ]
  },
  {
   "cell_type": "code",
   "execution_count": 59,
   "id": "0d06821c",
   "metadata": {},
   "outputs": [
    {
     "data": {
      "text/plain": [
       "3000"
      ]
     },
     "execution_count": 59,
     "metadata": {},
     "output_type": "execute_result"
    }
   ],
   "source": [
    "obj.get_balance()"
   ]
  },
  {
   "cell_type": "code",
   "execution_count": null,
   "id": "df16527c",
   "metadata": {},
   "outputs": [],
   "source": []
  },
  {
   "cell_type": "markdown",
   "id": "e3bba889",
   "metadata": {},
   "source": [
    "### Inheritance"
   ]
  },
  {
   "cell_type": "code",
   "execution_count": 60,
   "id": "08775929",
   "metadata": {},
   "outputs": [],
   "source": [
    "class Parent:\n",
    "    def test_parent(self):\n",
    "        print('This is my parent class')"
   ]
  },
  {
   "cell_type": "code",
   "execution_count": 61,
   "id": "bfb0181a",
   "metadata": {},
   "outputs": [],
   "source": [
    "class Child(Parent):\n",
    "    pass"
   ]
  },
  {
   "cell_type": "code",
   "execution_count": 62,
   "id": "197d920b",
   "metadata": {},
   "outputs": [],
   "source": [
    "obj = Child()"
   ]
  },
  {
   "cell_type": "code",
   "execution_count": 63,
   "id": "ac1ec09d",
   "metadata": {},
   "outputs": [
    {
     "name": "stdout",
     "output_type": "stream",
     "text": [
      "This is my parent class\n"
     ]
    }
   ],
   "source": [
    "obj.test_parent()"
   ]
  },
  {
   "cell_type": "code",
   "execution_count": 64,
   "id": "a79ed529",
   "metadata": {},
   "outputs": [],
   "source": [
    "class Class1:\n",
    "    def test_class1(self):\n",
    "        print('this is my class1')"
   ]
  },
  {
   "cell_type": "code",
   "execution_count": 65,
   "id": "92394a8b",
   "metadata": {},
   "outputs": [],
   "source": [
    "class Class2(Class1):\n",
    "    def test_class2(self):\n",
    "        print('this is my class2')"
   ]
  },
  {
   "cell_type": "code",
   "execution_count": 66,
   "id": "ad9129a3",
   "metadata": {},
   "outputs": [],
   "source": [
    "class Class3(Class2):\n",
    "    def test_class3(self):\n",
    "        print('this is my class3')"
   ]
  },
  {
   "cell_type": "code",
   "execution_count": 67,
   "id": "9a2dc661",
   "metadata": {},
   "outputs": [],
   "source": [
    "obj = Class3()"
   ]
  },
  {
   "cell_type": "code",
   "execution_count": 68,
   "id": "91a1f055",
   "metadata": {},
   "outputs": [
    {
     "name": "stdout",
     "output_type": "stream",
     "text": [
      "this is my class2\n"
     ]
    }
   ],
   "source": [
    "obj.test_class2()"
   ]
  },
  {
   "cell_type": "code",
   "execution_count": 70,
   "id": "dfc004ff",
   "metadata": {},
   "outputs": [],
   "source": [
    "class Class4:\n",
    "    def test_class4(self):\n",
    "        print('this is class4')"
   ]
  },
  {
   "cell_type": "code",
   "execution_count": 71,
   "id": "893694fd",
   "metadata": {},
   "outputs": [],
   "source": [
    "class Class5:\n",
    "    def test_class5(self):\n",
    "        print('this is class5')"
   ]
  },
  {
   "cell_type": "code",
   "execution_count": 72,
   "id": "ef5d9d80",
   "metadata": {},
   "outputs": [],
   "source": [
    "class Class6(Class4,Class5):\n",
    "    def test_class4(self):\n",
    "        print('this is class4')"
   ]
  },
  {
   "cell_type": "code",
   "execution_count": 73,
   "id": "b8f3c6b5",
   "metadata": {},
   "outputs": [],
   "source": [
    "obj = Class6()"
   ]
  },
  {
   "cell_type": "code",
   "execution_count": 74,
   "id": "cf1517cf",
   "metadata": {},
   "outputs": [
    {
     "name": "stdout",
     "output_type": "stream",
     "text": [
      "this is class4\n"
     ]
    }
   ],
   "source": [
    "obj.test_class4()"
   ]
  },
  {
   "cell_type": "code",
   "execution_count": null,
   "id": "5b33fdb3",
   "metadata": {},
   "outputs": [],
   "source": []
  }
 ],
 "metadata": {
  "kernelspec": {
   "display_name": "Python 3 (ipykernel)",
   "language": "python",
   "name": "python3"
  },
  "language_info": {
   "codemirror_mode": {
    "name": "ipython",
    "version": 3
   },
   "file_extension": ".py",
   "mimetype": "text/x-python",
   "name": "python",
   "nbconvert_exporter": "python",
   "pygments_lexer": "ipython3",
   "version": "3.11.1"
  }
 },
 "nbformat": 4,
 "nbformat_minor": 5
}
