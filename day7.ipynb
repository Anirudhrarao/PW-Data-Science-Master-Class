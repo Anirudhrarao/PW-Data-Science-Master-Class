{
 "cells": [
  {
   "cell_type": "markdown",
   "id": "babe912f",
   "metadata": {},
   "source": [
    "## Lamda Function"
   ]
  },
  {
   "cell_type": "code",
   "execution_count": 6,
   "id": "ed6bc2d4",
   "metadata": {},
   "outputs": [],
   "source": [
    "n = 3\n",
    "p = 2"
   ]
  },
  {
   "cell_type": "code",
   "execution_count": 7,
   "id": "e0c28b9c",
   "metadata": {},
   "outputs": [],
   "source": [
    "def test(n,p):\n",
    "    return n**p"
   ]
  },
  {
   "cell_type": "code",
   "execution_count": 8,
   "id": "477ba3f9",
   "metadata": {},
   "outputs": [
    {
     "data": {
      "text/plain": [
       "9"
      ]
     },
     "execution_count": 8,
     "metadata": {},
     "output_type": "execute_result"
    }
   ],
   "source": [
    "test(n,p)"
   ]
  },
  {
   "cell_type": "code",
   "execution_count": 12,
   "id": "148a3860",
   "metadata": {},
   "outputs": [],
   "source": [
    "# a function without name is anonymous function\n",
    "a = lambda n,p: n**p"
   ]
  },
  {
   "cell_type": "code",
   "execution_count": 13,
   "id": "c1b762a7",
   "metadata": {},
   "outputs": [
    {
     "data": {
      "text/plain": [
       "9"
      ]
     },
     "execution_count": 13,
     "metadata": {},
     "output_type": "execute_result"
    }
   ],
   "source": [
    "a(n,p)"
   ]
  },
  {
   "cell_type": "code",
   "execution_count": 14,
   "id": "a3fd155a",
   "metadata": {},
   "outputs": [],
   "source": [
    "add = lambda x,y : x + y"
   ]
  },
  {
   "cell_type": "code",
   "execution_count": 15,
   "id": "d5b061a4",
   "metadata": {},
   "outputs": [
    {
     "data": {
      "text/plain": [
       "5"
      ]
     },
     "execution_count": 15,
     "metadata": {},
     "output_type": "execute_result"
    }
   ],
   "source": [
    "add(2,3)"
   ]
  },
  {
   "cell_type": "code",
   "execution_count": 16,
   "id": "a607aeff",
   "metadata": {},
   "outputs": [],
   "source": [
    "c_to_f = lambda c : (9/5)*c+32"
   ]
  },
  {
   "cell_type": "code",
   "execution_count": 17,
   "id": "9b0b6b54",
   "metadata": {},
   "outputs": [
    {
     "data": {
      "text/plain": [
       "93.2"
      ]
     },
     "execution_count": 17,
     "metadata": {},
     "output_type": "execute_result"
    }
   ],
   "source": [
    "c_to_f(34)"
   ]
  },
  {
   "cell_type": "code",
   "execution_count": 18,
   "id": "b8d2834c",
   "metadata": {},
   "outputs": [],
   "source": [
    "max_two = lambda x,y : x if x>y else y"
   ]
  },
  {
   "cell_type": "code",
   "execution_count": 19,
   "id": "0c3830cf",
   "metadata": {},
   "outputs": [
    {
     "data": {
      "text/plain": [
       "3"
      ]
     },
     "execution_count": 19,
     "metadata": {},
     "output_type": "execute_result"
    }
   ],
   "source": [
    "max_two(2,3)"
   ]
  },
  {
   "cell_type": "code",
   "execution_count": 20,
   "id": "4af011f9",
   "metadata": {},
   "outputs": [],
   "source": [
    "s = \"pwskills\""
   ]
  },
  {
   "cell_type": "code",
   "execution_count": 21,
   "id": "08926da8",
   "metadata": {},
   "outputs": [],
   "source": [
    "length = lambda string : len(string)"
   ]
  },
  {
   "cell_type": "code",
   "execution_count": 22,
   "id": "b096bd4b",
   "metadata": {},
   "outputs": [
    {
     "data": {
      "text/plain": [
       "8"
      ]
     },
     "execution_count": 22,
     "metadata": {},
     "output_type": "execute_result"
    }
   ],
   "source": [
    "length(s)"
   ]
  },
  {
   "cell_type": "markdown",
   "id": "efa45c07",
   "metadata": {},
   "source": [
    "## Map, Reduce, Filter functions"
   ]
  },
  {
   "cell_type": "code",
   "execution_count": 23,
   "id": "27e33680",
   "metadata": {},
   "outputs": [],
   "source": [
    "l = [1,2,3,4,5]"
   ]
  },
  {
   "cell_type": "code",
   "execution_count": 25,
   "id": "c9b95e4c",
   "metadata": {},
   "outputs": [],
   "source": [
    "def test(l):\n",
    "    ls = []\n",
    "    for i in l:\n",
    "        ls.append(i**2)\n",
    "    return ls"
   ]
  },
  {
   "cell_type": "code",
   "execution_count": 26,
   "id": "b6d172f8",
   "metadata": {},
   "outputs": [
    {
     "data": {
      "text/plain": [
       "[1, 4, 9, 16, 25]"
      ]
     },
     "execution_count": 26,
     "metadata": {},
     "output_type": "execute_result"
    }
   ],
   "source": [
    "test(l)"
   ]
  },
  {
   "cell_type": "code",
   "execution_count": 28,
   "id": "b46a5860",
   "metadata": {},
   "outputs": [],
   "source": [
    "def sq(x):\n",
    "    return x**2"
   ]
  },
  {
   "cell_type": "code",
   "execution_count": 30,
   "id": "3d0c1c9c",
   "metadata": {},
   "outputs": [
    {
     "data": {
      "text/plain": [
       "[1, 4, 9, 16, 25]"
      ]
     },
     "execution_count": 30,
     "metadata": {},
     "output_type": "execute_result"
    }
   ],
   "source": [
    "list(map(sq,l))"
   ]
  },
  {
   "cell_type": "code",
   "execution_count": 32,
   "id": "589d56f4",
   "metadata": {},
   "outputs": [
    {
     "data": {
      "text/plain": [
       "[1, 4, 9, 16, 25]"
      ]
     },
     "execution_count": 32,
     "metadata": {},
     "output_type": "execute_result"
    }
   ],
   "source": [
    "list(map(lambda x : x**2,l))"
   ]
  },
  {
   "cell_type": "code",
   "execution_count": 33,
   "id": "0b520eda",
   "metadata": {},
   "outputs": [],
   "source": [
    "l1 = [1,2,3]\n",
    "l2 = [2,3,5]"
   ]
  },
  {
   "cell_type": "code",
   "execution_count": 34,
   "id": "0224ce23",
   "metadata": {},
   "outputs": [
    {
     "data": {
      "text/plain": [
       "[3, 5, 8]"
      ]
     },
     "execution_count": 34,
     "metadata": {},
     "output_type": "execute_result"
    }
   ],
   "source": [
    "list(map(lambda x,y: x+y, l1,l2))"
   ]
  },
  {
   "cell_type": "code",
   "execution_count": 35,
   "id": "48dd9c01",
   "metadata": {},
   "outputs": [],
   "source": [
    "s = \"pwskills\""
   ]
  },
  {
   "cell_type": "code",
   "execution_count": 36,
   "id": "8280648c",
   "metadata": {},
   "outputs": [
    {
     "data": {
      "text/plain": [
       "['P', 'W', 'S', 'K', 'I', 'L', 'L', 'S']"
      ]
     },
     "execution_count": 36,
     "metadata": {},
     "output_type": "execute_result"
    }
   ],
   "source": [
    "list(map(lambda x: x.upper(),s))"
   ]
  },
  {
   "cell_type": "markdown",
   "id": "b1c33747",
   "metadata": {},
   "source": [
    "### Reduce Function"
   ]
  },
  {
   "cell_type": "code",
   "execution_count": 38,
   "id": "0b33243b",
   "metadata": {},
   "outputs": [],
   "source": [
    "from functools import reduce"
   ]
  },
  {
   "cell_type": "code",
   "execution_count": 43,
   "id": "93f3b760",
   "metadata": {},
   "outputs": [
    {
     "data": {
      "text/plain": [
       "9"
      ]
     },
     "execution_count": 43,
     "metadata": {},
     "output_type": "execute_result"
    }
   ],
   "source": [
    "l = [2,3,4]\n",
    "reduce(lambda x,y: x+y,l)"
   ]
  },
  {
   "cell_type": "code",
   "execution_count": 44,
   "id": "1fce1327",
   "metadata": {},
   "outputs": [
    {
     "data": {
      "text/plain": [
       "5"
      ]
     },
     "execution_count": 44,
     "metadata": {},
     "output_type": "execute_result"
    }
   ],
   "source": [
    "ls = [1,2,3,4,5,4]\n",
    "reduce(lambda x,y: x if x>y else y,ls)"
   ]
  },
  {
   "cell_type": "markdown",
   "id": "3c9990f8",
   "metadata": {},
   "source": [
    "### Filter Fucntion"
   ]
  },
  {
   "cell_type": "code",
   "execution_count": 45,
   "id": "e5d29d3d",
   "metadata": {},
   "outputs": [
    {
     "data": {
      "text/plain": [
       "[1, 2, 3, 4, 5, 4]"
      ]
     },
     "execution_count": 45,
     "metadata": {},
     "output_type": "execute_result"
    }
   ],
   "source": [
    "ls"
   ]
  },
  {
   "cell_type": "code",
   "execution_count": 48,
   "id": "8b2b4eb9",
   "metadata": {},
   "outputs": [
    {
     "data": {
      "text/plain": [
       "[2, 4, 4]"
      ]
     },
     "execution_count": 48,
     "metadata": {},
     "output_type": "execute_result"
    }
   ],
   "source": [
    "list(filter(lambda x: x%2==0,ls))"
   ]
  },
  {
   "cell_type": "code",
   "execution_count": 51,
   "id": "d0039316",
   "metadata": {},
   "outputs": [
    {
     "data": {
      "text/plain": [
       "[-2, -3, -7]"
      ]
     },
     "execution_count": 51,
     "metadata": {},
     "output_type": "execute_result"
    }
   ],
   "source": [
    "l1 = [-2,4,5,-3,-7,0]\n",
    "list(filter(lambda x: x<0,l1))"
   ]
  },
  {
   "cell_type": "code",
   "execution_count": 52,
   "id": "c87fca9c",
   "metadata": {},
   "outputs": [
    {
     "data": {
      "text/plain": [
       "[4, 5]"
      ]
     },
     "execution_count": 52,
     "metadata": {},
     "output_type": "execute_result"
    }
   ],
   "source": [
    "list(filter(lambda x: x>0,l1))"
   ]
  },
  {
   "cell_type": "code",
   "execution_count": 55,
   "id": "921ac7ea",
   "metadata": {},
   "outputs": [
    {
     "data": {
      "text/plain": [
       "[0]"
      ]
     },
     "execution_count": 55,
     "metadata": {},
     "output_type": "execute_result"
    }
   ],
   "source": [
    "list(filter(lambda x:x==0,l1))"
   ]
  },
  {
   "cell_type": "code",
   "execution_count": 56,
   "id": "90c1caa6",
   "metadata": {},
   "outputs": [],
   "source": [
    "l2 = [\"sudh\",\"pwskills\",\"Kumar\",\"bengalore\",\"krish\"]"
   ]
  },
  {
   "cell_type": "code",
   "execution_count": 57,
   "id": "97489569",
   "metadata": {},
   "outputs": [
    {
     "data": {
      "text/plain": [
       "['sudh', 'pwskills', 'Kumar', 'bengalore', 'krish']"
      ]
     },
     "execution_count": 57,
     "metadata": {},
     "output_type": "execute_result"
    }
   ],
   "source": [
    "l2"
   ]
  },
  {
   "cell_type": "code",
   "execution_count": 59,
   "id": "d760a0dd",
   "metadata": {},
   "outputs": [
    {
     "data": {
      "text/plain": [
       "['sudh', 'Kumar', 'krish']"
      ]
     },
     "execution_count": 59,
     "metadata": {},
     "output_type": "execute_result"
    }
   ],
   "source": [
    "list(filter(lambda x: len(x)<6,l2))"
   ]
  },
  {
   "cell_type": "code",
   "execution_count": null,
   "id": "e35adf90",
   "metadata": {},
   "outputs": [],
   "source": []
  }
 ],
 "metadata": {
  "kernelspec": {
   "display_name": "Python 3 (ipykernel)",
   "language": "python",
   "name": "python3"
  },
  "language_info": {
   "codemirror_mode": {
    "name": "ipython",
    "version": 3
   },
   "file_extension": ".py",
   "mimetype": "text/x-python",
   "name": "python",
   "nbconvert_exporter": "python",
   "pygments_lexer": "ipython3",
   "version": "3.10.4"
  }
 },
 "nbformat": 4,
 "nbformat_minor": 5
}
