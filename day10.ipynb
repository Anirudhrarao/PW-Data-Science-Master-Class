{
 "cells": [
  {
   "cell_type": "markdown",
   "id": "957987ae",
   "metadata": {},
   "source": [
    "### Decorators"
   ]
  },
  {
   "cell_type": "code",
   "execution_count": 3,
   "id": "2b9ff079",
   "metadata": {},
   "outputs": [],
   "source": [
    "def test():\n",
    "    print('Function iniailize for execution')\n",
    "    print(2+3)\n",
    "    print('Function called successfully')"
   ]
  },
  {
   "cell_type": "code",
   "execution_count": 4,
   "id": "f4392d1f",
   "metadata": {},
   "outputs": [
    {
     "name": "stdout",
     "output_type": "stream",
     "text": [
      "Function iniailize for execution\n",
      "5\n",
      "Function called successfully\n"
     ]
    }
   ],
   "source": [
    "test()"
   ]
  },
  {
   "cell_type": "code",
   "execution_count": 5,
   "id": "637d4e3e",
   "metadata": {},
   "outputs": [],
   "source": [
    "def deco(func):\n",
    "    def inner_deco():\n",
    "        print('Function iniailize for execution')\n",
    "        func()\n",
    "        print('Function called successfully')\n",
    "    return inner_deco"
   ]
  },
  {
   "cell_type": "code",
   "execution_count": 8,
   "id": "360177db",
   "metadata": {},
   "outputs": [],
   "source": [
    "@deco\n",
    "def test1():\n",
    "    print(2+4+4)"
   ]
  },
  {
   "cell_type": "code",
   "execution_count": 9,
   "id": "69512a85",
   "metadata": {},
   "outputs": [
    {
     "name": "stdout",
     "output_type": "stream",
     "text": [
      "Function iniailize for execution\n",
      "10\n",
      "Function called successfully\n"
     ]
    }
   ],
   "source": [
    "test1()"
   ]
  },
  {
   "cell_type": "code",
   "execution_count": 1,
   "id": "8e528fcc",
   "metadata": {},
   "outputs": [],
   "source": [
    "import time\n",
    "def timer_test(func):\n",
    "    def inner_test():\n",
    "        start = time.time()\n",
    "        func()\n",
    "        end = time.time()\n",
    "        print(end-start)\n",
    "    return inner_test"
   ]
  },
  {
   "cell_type": "code",
   "execution_count": 3,
   "id": "d215d53e",
   "metadata": {},
   "outputs": [
    {
     "name": "stdout",
     "output_type": "stream",
     "text": [
      "0.0\n"
     ]
    }
   ],
   "source": [
    "@timer_test\n",
    "def test3():\n",
    "    for i in range(100):\n",
    "        pass\n",
    "test3()"
   ]
  },
  {
   "cell_type": "markdown",
   "id": "7295a497",
   "metadata": {},
   "source": [
    "### Class Method"
   ]
  },
  {
   "cell_type": "code",
   "execution_count": 12,
   "id": "9d04e447",
   "metadata": {},
   "outputs": [],
   "source": [
    "class Pwskills:\n",
    "    def __init__(self, name, email):\n",
    "        self.name = name\n",
    "        self.email = email\n",
    "        \n",
    "    @classmethod  \n",
    "    def details(cls,name,email):\n",
    "        return cls(name,email)\n",
    "    \n",
    "    def student_details(self):\n",
    "        print(self.name,self.email)"
   ]
  },
  {
   "cell_type": "code",
   "execution_count": 13,
   "id": "f2ffab45",
   "metadata": {},
   "outputs": [],
   "source": [
    "p = Pwskills('Yash','Bcom@gmail.com')"
   ]
  },
  {
   "cell_type": "code",
   "execution_count": 14,
   "id": "14121e7c",
   "metadata": {},
   "outputs": [
    {
     "name": "stdout",
     "output_type": "stream",
     "text": [
      "Yash Bcom@gmail.com\n"
     ]
    }
   ],
   "source": [
    "p.student_details()"
   ]
  },
  {
   "cell_type": "code",
   "execution_count": 16,
   "id": "53bb6ca1",
   "metadata": {},
   "outputs": [],
   "source": [
    "pw1 = Pwskills.details('Mohan','mohan@gmail.com')"
   ]
  },
  {
   "cell_type": "code",
   "execution_count": 17,
   "id": "85935c06",
   "metadata": {},
   "outputs": [
    {
     "data": {
      "text/plain": [
       "'Mohan'"
      ]
     },
     "execution_count": 17,
     "metadata": {},
     "output_type": "execute_result"
    }
   ],
   "source": [
    "pw1.name"
   ]
  },
  {
   "cell_type": "code",
   "execution_count": 18,
   "id": "196731d2",
   "metadata": {},
   "outputs": [
    {
     "data": {
      "text/plain": [
       "'mohan@gmail.com'"
      ]
     },
     "execution_count": 18,
     "metadata": {},
     "output_type": "execute_result"
    }
   ],
   "source": [
    "pw1.email"
   ]
  },
  {
   "cell_type": "code",
   "execution_count": 27,
   "id": "253f642d",
   "metadata": {},
   "outputs": [],
   "source": [
    "class Ineuron:\n",
    "    mobile_num = 879870943543\n",
    "    def __init__(self, name, email):\n",
    "        self.name = name\n",
    "        self.email = email\n",
    "    \n",
    "    @classmethod\n",
    "    def change_number(cls,newnum):\n",
    "        Ineuron.mobile_num = newnum\n",
    "        \n",
    "    @classmethod  \n",
    "    def details(cls,name,email):\n",
    "        return cls(name,email)\n",
    "    \n",
    "    def student_details(self):\n",
    "        print(self.name,self.email,Ineuron.mobile_num)"
   ]
  },
  {
   "cell_type": "code",
   "execution_count": 28,
   "id": "5eaff1ba",
   "metadata": {},
   "outputs": [
    {
     "data": {
      "text/plain": [
       "879870943543"
      ]
     },
     "execution_count": 28,
     "metadata": {},
     "output_type": "execute_result"
    }
   ],
   "source": [
    "Ineuron.mobile_num"
   ]
  },
  {
   "cell_type": "code",
   "execution_count": 29,
   "id": "a976963b",
   "metadata": {},
   "outputs": [],
   "source": [
    "i = Ineuron.details('Sohan','sohan@gmail.com')"
   ]
  },
  {
   "cell_type": "code",
   "execution_count": 26,
   "id": "14b6f90a",
   "metadata": {},
   "outputs": [
    {
     "name": "stdout",
     "output_type": "stream",
     "text": [
      "Sohan sohan@gmail.com 879870943543\n"
     ]
    }
   ],
   "source": [
    "i.student_details()"
   ]
  },
  {
   "cell_type": "code",
   "execution_count": 30,
   "id": "977a2f4c",
   "metadata": {},
   "outputs": [],
   "source": [
    "i.change_number(2131313213)"
   ]
  },
  {
   "cell_type": "code",
   "execution_count": 31,
   "id": "5464a01f",
   "metadata": {},
   "outputs": [
    {
     "name": "stdout",
     "output_type": "stream",
     "text": [
      "Sohan sohan@gmail.com 2131313213\n"
     ]
    }
   ],
   "source": [
    "i.student_details()"
   ]
  },
  {
   "cell_type": "code",
   "execution_count": 33,
   "id": "ef6fbe16",
   "metadata": {},
   "outputs": [],
   "source": [
    "def course_detail(cls,course_name):\n",
    "    print(\"course details\", course_name)"
   ]
  },
  {
   "cell_type": "code",
   "execution_count": 34,
   "id": "781e252b",
   "metadata": {},
   "outputs": [],
   "source": [
    "Ineuron.course_detail = classmethod(course_detail)"
   ]
  },
  {
   "cell_type": "code",
   "execution_count": 35,
   "id": "54999c60",
   "metadata": {},
   "outputs": [
    {
     "name": "stdout",
     "output_type": "stream",
     "text": [
      "course details data science master\n"
     ]
    }
   ],
   "source": [
    "Ineuron.course_detail(\"data science master\")"
   ]
  },
  {
   "cell_type": "code",
   "execution_count": 36,
   "id": "dbba64b5",
   "metadata": {},
   "outputs": [
    {
     "name": "stdout",
     "output_type": "stream",
     "text": [
      "course details MCA\n"
     ]
    }
   ],
   "source": [
    "i.course_detail('MCA')"
   ]
  },
  {
   "cell_type": "code",
   "execution_count": 44,
   "id": "5975d9d0",
   "metadata": {},
   "outputs": [],
   "source": [
    "class Ineurons:\n",
    "    mobile_num = 879870943543\n",
    "    def __init__(self, name, email):\n",
    "        self.name = name\n",
    "        self.email = email\n",
    "    \n",
    "    @classmethod\n",
    "    def change_number(cls,newnum):\n",
    "        Ineuron.mobile_num = newnum\n",
    "        \n",
    "    @classmethod  \n",
    "    def details(cls,name,email):\n",
    "        return cls(name,email)\n",
    "    \n",
    "    def student_details(self):\n",
    "        print(self.name,self.email,Ineuron.mobile_num)"
   ]
  },
  {
   "cell_type": "code",
   "execution_count": 45,
   "id": "529e6a1e",
   "metadata": {},
   "outputs": [],
   "source": [
    "del Ineurons.change_number"
   ]
  },
  {
   "cell_type": "code",
   "execution_count": 48,
   "id": "1f2df5d0",
   "metadata": {},
   "outputs": [
    {
     "data": {
      "text/plain": [
       "2131313213"
      ]
     },
     "execution_count": 48,
     "metadata": {},
     "output_type": "execute_result"
    }
   ],
   "source": [
    "# lets delete attributes \n",
    "Ineuron.mobile_num"
   ]
  },
  {
   "cell_type": "code",
   "execution_count": 49,
   "id": "f0bd497e",
   "metadata": {},
   "outputs": [],
   "source": [
    "delattr(Ineurons,\"mobile_num\")"
   ]
  },
  {
   "cell_type": "code",
   "execution_count": 50,
   "id": "a5ee2af3",
   "metadata": {},
   "outputs": [
    {
     "ename": "AttributeError",
     "evalue": "type object 'Ineurons' has no attribute 'mobile_num'",
     "output_type": "error",
     "traceback": [
      "\u001b[1;31m---------------------------------------------------------------------------\u001b[0m",
      "\u001b[1;31mAttributeError\u001b[0m                            Traceback (most recent call last)",
      "Cell \u001b[1;32mIn[50], line 1\u001b[0m\n\u001b[1;32m----> 1\u001b[0m \u001b[43mIneurons\u001b[49m\u001b[38;5;241;43m.\u001b[39;49m\u001b[43mmobile_num\u001b[49m\n",
      "\u001b[1;31mAttributeError\u001b[0m: type object 'Ineurons' has no attribute 'mobile_num'"
     ]
    }
   ],
   "source": [
    "Ineurons.mobile_num"
   ]
  },
  {
   "cell_type": "markdown",
   "id": "a6b8f282",
   "metadata": {},
   "source": [
    "### Static Method\n",
    "* in below code student can be multiple but mentor will remain same to all students which means there is no replica of staticmethod."
   ]
  },
  {
   "cell_type": "code",
   "execution_count": 51,
   "id": "68fb6a8a",
   "metadata": {},
   "outputs": [],
   "source": [
    "class Course:\n",
    "    def students_details(self,name,email,number):\n",
    "        print(name,email,number)"
   ]
  },
  {
   "cell_type": "code",
   "execution_count": 54,
   "id": "75f8324f",
   "metadata": {},
   "outputs": [],
   "source": [
    "c = Course()"
   ]
  },
  {
   "cell_type": "code",
   "execution_count": 55,
   "id": "68aec725",
   "metadata": {},
   "outputs": [
    {
     "name": "stdout",
     "output_type": "stream",
     "text": [
      "Mayank Mayank@gmail.com 3424\n"
     ]
    }
   ],
   "source": [
    "c.students_details('Mayank','Mayank@gmail.com',3424)"
   ]
  },
  {
   "cell_type": "code",
   "execution_count": 7,
   "id": "ab0b4637",
   "metadata": {},
   "outputs": [],
   "source": [
    "class Course1:\n",
    "    def students_details(self,name,email,number):\n",
    "        print(name,email,number)\n",
    "    \n",
    "    @staticmethod\n",
    "    def metor_class(list):\n",
    "        print(list)\n",
    "    \n",
    "#     instance method\n",
    "    def mentor(self,men_list):\n",
    "        print(men_list)"
   ]
  },
  {
   "cell_type": "code",
   "execution_count": 3,
   "id": "3304d202",
   "metadata": {},
   "outputs": [
    {
     "name": "stdout",
     "output_type": "stream",
     "text": [
      "['Krish', 'Sudhanshu']\n"
     ]
    }
   ],
   "source": [
    "Course1.metor_class(['Krish','Sudhanshu'])"
   ]
  },
  {
   "cell_type": "code",
   "execution_count": 4,
   "id": "a19b14fb",
   "metadata": {},
   "outputs": [],
   "source": [
    "c1 = Course1()"
   ]
  },
  {
   "cell_type": "code",
   "execution_count": 6,
   "id": "9659ef7a",
   "metadata": {},
   "outputs": [
    {
     "name": "stdout",
     "output_type": "stream",
     "text": [
      "['Ritik', 'Sohan']\n"
     ]
    }
   ],
   "source": [
    "c1.mentor(['Ritik','Sohan'])"
   ]
  },
  {
   "cell_type": "code",
   "execution_count": 10,
   "id": "63aa8fbb",
   "metadata": {},
   "outputs": [],
   "source": [
    "class DataScience:\n",
    "    def students_detail(self,name,email):\n",
    "        print(name,email)\n",
    "        self.students_detail\n",
    "        \n",
    "    @staticmethod\n",
    "    def metor_id(mail_id):\n",
    "        print(mail_id)\n",
    "    \n",
    "    @staticmethod\n",
    "    def mentor(lists):\n",
    "        print(lists)\n",
    "        DataScience.metor_id(['Krish@gmail.com','Sudhanshu@gmail.com'])\n",
    "    \n",
    "    @classmethod\n",
    "    def class_name(cls,class_name):\n",
    "        cls.mentor(['Krish','Piyush'])\n",
    "    \n",
    "    def mentor_list(men_list):\n",
    "        print(men_list)\n",
    "        self.mentor(['Krish','Sudhanshu'])"
   ]
  },
  {
   "cell_type": "code",
   "execution_count": 11,
   "id": "b67332fa",
   "metadata": {},
   "outputs": [],
   "source": [
    "d = DataScience()"
   ]
  },
  {
   "cell_type": "code",
   "execution_count": 12,
   "id": "c08f4e28",
   "metadata": {},
   "outputs": [
    {
     "name": "stdout",
     "output_type": "stream",
     "text": [
      "yash yash@gmail.com\n"
     ]
    }
   ],
   "source": [
    "d.students_detail('yash','yash@gmail.com')"
   ]
  },
  {
   "cell_type": "code",
   "execution_count": 14,
   "id": "83482e86",
   "metadata": {},
   "outputs": [
    {
     "name": "stdout",
     "output_type": "stream",
     "text": [
      "['Krish@gmail.com', 'Sudh@gmail.com']\n"
     ]
    }
   ],
   "source": [
    "d.metor_id(['Krish@gmail.com','Sudh@gmail.com'])"
   ]
  },
  {
   "cell_type": "code",
   "execution_count": 16,
   "id": "c51865d0",
   "metadata": {},
   "outputs": [
    {
     "name": "stdout",
     "output_type": "stream",
     "text": [
      "['Krish', 'Piyush']\n",
      "['Krish@gmail.com', 'Sudhanshu@gmail.com']\n"
     ]
    }
   ],
   "source": [
    "d.class_name(DataScience)"
   ]
  },
  {
   "cell_type": "code",
   "execution_count": 18,
   "id": "e5b17dd8",
   "metadata": {},
   "outputs": [
    {
     "name": "stdout",
     "output_type": "stream",
     "text": [
      "['krish', 'sudhanshu']\n",
      "['Krish@gmail.com', 'Sudhanshu@gmail.com']\n"
     ]
    }
   ],
   "source": [
    "d.mentor(['krish','sudhanshu'])"
   ]
  },
  {
   "cell_type": "markdown",
   "id": "f110df19",
   "metadata": {},
   "source": [
    "### Note point\n",
    "#### A classmethod always overload init and does not makes replicas for each object\n",
    "#### A staticmethod reduce memory usage"
   ]
  },
  {
   "cell_type": "code",
   "execution_count": null,
   "id": "2cb0ee08",
   "metadata": {},
   "outputs": [],
   "source": []
  },
  {
   "cell_type": "markdown",
   "id": "52511c60",
   "metadata": {},
   "source": [
    "### Special or magic or dunder method\n",
    "* System always called magic method."
   ]
  },
  {
   "cell_type": "code",
   "execution_count": 23,
   "id": "e5269e14",
   "metadata": {},
   "outputs": [
    {
     "data": {
      "text/plain": [
       "['__abs__',\n",
       " '__add__',\n",
       " '__and__',\n",
       " '__bool__',\n",
       " '__ceil__',\n",
       " '__class__',\n",
       " '__delattr__',\n",
       " '__dir__',\n",
       " '__divmod__',\n",
       " '__doc__',\n",
       " '__eq__',\n",
       " '__float__',\n",
       " '__floor__',\n",
       " '__floordiv__',\n",
       " '__format__',\n",
       " '__ge__',\n",
       " '__getattribute__',\n",
       " '__getnewargs__',\n",
       " '__getstate__',\n",
       " '__gt__',\n",
       " '__hash__',\n",
       " '__index__',\n",
       " '__init__',\n",
       " '__init_subclass__',\n",
       " '__int__',\n",
       " '__invert__',\n",
       " '__le__',\n",
       " '__lshift__',\n",
       " '__lt__',\n",
       " '__mod__',\n",
       " '__mul__',\n",
       " '__ne__',\n",
       " '__neg__',\n",
       " '__new__',\n",
       " '__or__',\n",
       " '__pos__',\n",
       " '__pow__',\n",
       " '__radd__',\n",
       " '__rand__',\n",
       " '__rdivmod__',\n",
       " '__reduce__',\n",
       " '__reduce_ex__',\n",
       " '__repr__',\n",
       " '__rfloordiv__',\n",
       " '__rlshift__',\n",
       " '__rmod__',\n",
       " '__rmul__',\n",
       " '__ror__',\n",
       " '__round__',\n",
       " '__rpow__',\n",
       " '__rrshift__',\n",
       " '__rshift__',\n",
       " '__rsub__',\n",
       " '__rtruediv__',\n",
       " '__rxor__',\n",
       " '__setattr__',\n",
       " '__sizeof__',\n",
       " '__str__',\n",
       " '__sub__',\n",
       " '__subclasshook__',\n",
       " '__truediv__',\n",
       " '__trunc__',\n",
       " '__xor__',\n",
       " 'as_integer_ratio',\n",
       " 'bit_count',\n",
       " 'bit_length',\n",
       " 'conjugate',\n",
       " 'denominator',\n",
       " 'from_bytes',\n",
       " 'imag',\n",
       " 'numerator',\n",
       " 'real',\n",
       " 'to_bytes']"
      ]
     },
     "execution_count": 23,
     "metadata": {},
     "output_type": "execute_result"
    }
   ],
   "source": [
    "dir(int)"
   ]
  },
  {
   "cell_type": "code",
   "execution_count": 24,
   "id": "785d0011",
   "metadata": {},
   "outputs": [],
   "source": [
    "a = 10"
   ]
  },
  {
   "cell_type": "code",
   "execution_count": 25,
   "id": "10cbf9c7",
   "metadata": {},
   "outputs": [
    {
     "data": {
      "text/plain": [
       "16"
      ]
     },
     "execution_count": 25,
     "metadata": {},
     "output_type": "execute_result"
    }
   ],
   "source": [
    "a + 6"
   ]
  },
  {
   "cell_type": "code",
   "execution_count": 26,
   "id": "269ee396",
   "metadata": {},
   "outputs": [
    {
     "data": {
      "text/plain": [
       "16"
      ]
     },
     "execution_count": 26,
     "metadata": {},
     "output_type": "execute_result"
    }
   ],
   "source": [
    "a.__add__(6)"
   ]
  },
  {
   "cell_type": "code",
   "execution_count": 29,
   "id": "9bb1208b",
   "metadata": {},
   "outputs": [],
   "source": [
    "class Math:\n",
    "    def __new__(cls):\n",
    "        print('This is my new')\n",
    "    def __init__(self):\n",
    "        print('This is my calc')"
   ]
  },
  {
   "cell_type": "code",
   "execution_count": 30,
   "id": "f6dfc76f",
   "metadata": {},
   "outputs": [
    {
     "name": "stdout",
     "output_type": "stream",
     "text": [
      "This is my new\n"
     ]
    }
   ],
   "source": [
    "m = Math()"
   ]
  },
  {
   "cell_type": "code",
   "execution_count": 41,
   "id": "3b21ce86",
   "metadata": {},
   "outputs": [],
   "source": [
    "class Pwskills10:\n",
    "    def __init__(self):\n",
    "        self.ph_num = 89743958\n",
    "    \n",
    "    def __str__(self):\n",
    "        return('It is object that you made guys')"
   ]
  },
  {
   "cell_type": "code",
   "execution_count": 42,
   "id": "0186bf5f",
   "metadata": {},
   "outputs": [],
   "source": [
    "pw1 = Pwskills10()"
   ]
  },
  {
   "cell_type": "code",
   "execution_count": 43,
   "id": "41d0424e",
   "metadata": {},
   "outputs": [
    {
     "name": "stdout",
     "output_type": "stream",
     "text": [
      "It is object that you made guys\n"
     ]
    }
   ],
   "source": [
    "print(pw1)"
   ]
  },
  {
   "cell_type": "markdown",
   "id": "de771301",
   "metadata": {},
   "source": [
    "### Property Decorators\n",
    "* Another way of creating getter setter and deleter, you will able to expose property of class."
   ]
  },
  {
   "cell_type": "code",
   "execution_count": 68,
   "id": "a1ebf417",
   "metadata": {},
   "outputs": [],
   "source": [
    "class Test:\n",
    "    def __init__(self,course_price,course_name):\n",
    "        self.__course_price = course_price\n",
    "        self.course_name = course_name\n",
    "    \n",
    "    @property\n",
    "    def course_price_access(self):\n",
    "        return self.__course_price\n",
    "    \n",
    "    @course_price_access.setter\n",
    "    def course_price_set(self,price):\n",
    "        self.__course_price = price\n",
    "    \n",
    "    @course_price_access.deleter\n",
    "    def course_delete(self):\n",
    "        del self.__course_price\n",
    "        "
   ]
  },
  {
   "cell_type": "code",
   "execution_count": 69,
   "id": "6c299c64",
   "metadata": {},
   "outputs": [],
   "source": [
    "t = Test(3200,'Data science')"
   ]
  },
  {
   "cell_type": "code",
   "execution_count": 70,
   "id": "89596742",
   "metadata": {},
   "outputs": [
    {
     "data": {
      "text/plain": [
       "3200"
      ]
     },
     "execution_count": 70,
     "metadata": {},
     "output_type": "execute_result"
    }
   ],
   "source": [
    "t._Test__course_price"
   ]
  },
  {
   "cell_type": "code",
   "execution_count": 71,
   "id": "b6520a82",
   "metadata": {},
   "outputs": [
    {
     "data": {
      "text/plain": [
       "3200"
      ]
     },
     "execution_count": 71,
     "metadata": {},
     "output_type": "execute_result"
    }
   ],
   "source": [
    "t.course_price_access"
   ]
  },
  {
   "cell_type": "code",
   "execution_count": 72,
   "id": "104355c2",
   "metadata": {},
   "outputs": [],
   "source": [
    "t.course_price_set = 3300"
   ]
  },
  {
   "cell_type": "code",
   "execution_count": 73,
   "id": "f7fb0b2b",
   "metadata": {},
   "outputs": [
    {
     "data": {
      "text/plain": [
       "3300"
      ]
     },
     "execution_count": 73,
     "metadata": {},
     "output_type": "execute_result"
    }
   ],
   "source": [
    "t.course_price_access"
   ]
  },
  {
   "cell_type": "code",
   "execution_count": 76,
   "id": "984d53f5",
   "metadata": {},
   "outputs": [],
   "source": [
    "del t.course_delete"
   ]
  },
  {
   "cell_type": "code",
   "execution_count": 77,
   "id": "4a061116",
   "metadata": {},
   "outputs": [
    {
     "ename": "AttributeError",
     "evalue": "'Test' object has no attribute '_Test__course_price'",
     "output_type": "error",
     "traceback": [
      "\u001b[1;31m---------------------------------------------------------------------------\u001b[0m",
      "\u001b[1;31mAttributeError\u001b[0m                            Traceback (most recent call last)",
      "Cell \u001b[1;32mIn[77], line 1\u001b[0m\n\u001b[1;32m----> 1\u001b[0m \u001b[43mt\u001b[49m\u001b[38;5;241;43m.\u001b[39;49m\u001b[43mcourse_price_access\u001b[49m\n",
      "Cell \u001b[1;32mIn[68], line 8\u001b[0m, in \u001b[0;36mTest.course_price_access\u001b[1;34m(self)\u001b[0m\n\u001b[0;32m      6\u001b[0m \u001b[38;5;129m@property\u001b[39m\n\u001b[0;32m      7\u001b[0m \u001b[38;5;28;01mdef\u001b[39;00m \u001b[38;5;21mcourse_price_access\u001b[39m(\u001b[38;5;28mself\u001b[39m):\n\u001b[1;32m----> 8\u001b[0m     \u001b[38;5;28;01mreturn\u001b[39;00m \u001b[38;5;28;43mself\u001b[39;49m\u001b[38;5;241;43m.\u001b[39;49m\u001b[43m__course_price\u001b[49m\n",
      "\u001b[1;31mAttributeError\u001b[0m: 'Test' object has no attribute '_Test__course_price'"
     ]
    }
   ],
   "source": [
    "t.course_price_access"
   ]
  },
  {
   "cell_type": "code",
   "execution_count": null,
   "id": "4cd3bd1a",
   "metadata": {},
   "outputs": [],
   "source": []
  }
 ],
 "metadata": {
  "kernelspec": {
   "display_name": "Python 3 (ipykernel)",
   "language": "python",
   "name": "python3"
  },
  "language_info": {
   "codemirror_mode": {
    "name": "ipython",
    "version": 3
   },
   "file_extension": ".py",
   "mimetype": "text/x-python",
   "name": "python",
   "nbconvert_exporter": "python",
   "pygments_lexer": "ipython3",
   "version": "3.11.1"
  }
 },
 "nbformat": 4,
 "nbformat_minor": 5
}
